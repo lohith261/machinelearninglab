{
  "nbformat": 4,
  "nbformat_minor": 0,
  "metadata": {
    "colab": {
      "name": "Copy_of_Find_S.ipynb",
      "provenance": [],
      "collapsed_sections": [],
      "include_colab_link": true
    },
    "kernelspec": {
      "name": "python3",
      "display_name": "Python 3"
    },
    "language_info": {
      "name": "python"
    }
  },
  "cells": [
    {
      "cell_type": "markdown",
      "metadata": {
        "id": "view-in-github",
        "colab_type": "text"
      },
      "source": [
        "<a href=\"https://colab.research.google.com/github/lohith261/machinelearninglab/blob/main/Copy_of_Find_S.ipynb\" target=\"_parent\"><img src=\"https://colab.research.google.com/assets/colab-badge.svg\" alt=\"Open In Colab\"/></a>"
      ]
    },
    {
      "cell_type": "code",
      "metadata": {
        "colab": {
          "base_uri": "https://localhost:8080/"
        },
        "id": "6Y9bkS7ts_6j",
        "outputId": "b1451298-2a9c-4897-f174-f091c53eb461"
      },
      "source": [
        "import csv # importing csv module to read the dataset\n",
        "\n",
        "\n",
        "attributes = [['Sunny','Rainy'],  # storing a list of attributes in a variable\n",
        "              ['Warm','Cold'],\n",
        "              ['Normal','High'],\n",
        "              ['Strong','Weak'],\n",
        "              ['Warm','Cool'],\n",
        "              ['Same','Change']]\n",
        "\n",
        "\n",
        "num_attributes = len(attributes)  # storing the length of attributes in a variable\n",
        "\n",
        "\n",
        "print (\"\\n The most general hypothesis : ['?','?','?','?','?','?']\\n\")   # printing most general hypothesis\n",
        "print (\"\\n The most specific hypothesis : ['0','0','0','0','0','0']\\n\")  # printing most specific hypothesis\n",
        "\n",
        "a = []  # declaring a list 'a'\n",
        "print(\"\\n The Given Training Data Set \\n\")\n",
        "\n",
        "with open('/content/ws.csv', 'r') as csvFile:  # opening the csv file in read mode and calling it csvFile\n",
        "    reader = csv.reader(csvFile)  # reading the contents of csvFile and assigning it to reader variable\n",
        "    for row in reader:    # looping each row in reader(training dataset)\n",
        "        a.append (row)    # adding each row to the list 'a'\n",
        "        print(row)        # printing the row(each instance)\n",
        "\n",
        "\n",
        "print(\"\\n The initial value of hypothesis: \")\n",
        "hypothesis = ['0'] * num_attributes  # initiating the variable hypothesis with 6 zeroes(6 is the no. of attributes)\n",
        "print(hypothesis)\n",
        "\n",
        "for i in range(0,len(a)):\n",
        "  if a[i][num_attributes]=='Yes':\n",
        "    print(\"\\ninstance\",i)\n",
        "    print(\"Positive example\")\n",
        "    for j in range(0,num_attributes):\n",
        "      print(a[i][j],end=\" \")\n",
        "  else :\n",
        "    print(\"\\ninstance\",i)\n",
        "    print(\"Negative example\")\n",
        "    for j in range(0,num_attributes):\n",
        "      print(a[i][j],end=\" \")\n",
        "  print()\n",
        "            \n",
        "# Comparing with First Training Example \n",
        "for j in range(0,num_attributes):  #looping 6 times to get 6 values of 1st instance\n",
        "        hypothesis[j] = a[0][j];   # assigning each value of 1st instance from list 'a' to list 'hypothesis'\n",
        "       \n",
        "# Comparing with Remaining Training Examples of Given Data Set\n",
        "\n",
        "print(\"\\n Find S: Finding a Maximally Specific Hypothesis\\n\")\n",
        "\n",
        "for i in range(0,len(a)):  # looping 4 times(through each row/instance), as list 'a' contains 4 instances\n",
        "    if a[i][num_attributes]=='Yes':  # as the value num_attributes is 7, it corresponds to the last column which is enjoysport. With this condition, we only consider the instances that give us a positive outcome(Find S algo)            \n",
        "     \n",
        "       for j in range(0,num_attributes):    # looping through 6 times for each row(each attribute value corresponding to its respective instance)\n",
        "                if a[i][j]!=hypothesis[j]:  # if the current value(in list 'a') does not match with the value in hypothesis list\n",
        "                    hypothesis[j]='?'       # we replace the value in hypothesis list with a '?' \n",
        "                else :\n",
        "                    hypothesis[j]= a[i][j]  # else, i.e. if both values in the lists 'a' and 'hypothesis' match, we leave it as it is(assign the value in list 'a' to list 'hypothesis')\n",
        "    print(\" For Training Example No :{0} the hypothesis is \".format(i),hypothesis)  # printing hypothesis for each instance or training example.\n",
        "                \n",
        "print(\"\\n The Maximally Specific Hypothesis for a given Training Examples :\\n\")\n",
        "print(hypothesis)  # printing the final hypothesis"
      ],
      "execution_count": null,
      "outputs": [
        {
          "output_type": "stream",
          "name": "stdout",
          "text": [
            "\n",
            " The most general hypothesis : ['?','?','?','?','?','?']\n",
            "\n",
            "\n",
            " The most specific hypothesis : ['0','0','0','0','0','0']\n",
            "\n",
            "\n",
            " The Given Training Data Set \n",
            "\n",
            "['Sunny', 'Warm', 'Normal', 'Strong', 'Warm', 'Same', 'Yes']\n",
            "['Sunny', 'Warm', 'High', 'Strong', 'Warm', 'Same', 'Yes']\n",
            "['Rainy', 'Cold', 'High', 'Strong', 'Warm', 'Change', 'No']\n",
            "['Sunny', 'Warm', 'High', 'Strong', 'Cool', 'Change', 'Yes']\n",
            "\n",
            " The initial value of hypothesis: \n",
            "['0', '0', '0', '0', '0', '0']\n",
            "\n",
            "instance 0\n",
            "Positive example\n",
            "Sunny Warm Normal Strong Warm Same \n",
            "\n",
            "instance 1\n",
            "Positive example\n",
            "Sunny Warm High Strong Warm Same \n",
            "\n",
            "instance 2\n",
            "Negative example\n",
            "Rainy Cold High Strong Warm Change \n",
            "\n",
            "instance 3\n",
            "Positive example\n",
            "Sunny Warm High Strong Cool Change \n",
            "\n",
            " Find S: Finding a Maximally Specific Hypothesis\n",
            "\n",
            " For Training Example No :0 the hypothesis is  ['Sunny', 'Warm', 'Normal', 'Strong', 'Warm', 'Same']\n",
            " For Training Example No :1 the hypothesis is  ['Sunny', 'Warm', '?', 'Strong', 'Warm', 'Same']\n",
            " For Training Example No :2 the hypothesis is  ['Sunny', 'Warm', '?', 'Strong', 'Warm', 'Same']\n",
            " For Training Example No :3 the hypothesis is  ['Sunny', 'Warm', '?', 'Strong', '?', '?']\n",
            "\n",
            " The Maximally Specific Hypothesis for a given Training Examples :\n",
            "\n",
            "['Sunny', 'Warm', '?', 'Strong', '?', '?']\n"
          ]
        }
      ]
    }
  ]
}