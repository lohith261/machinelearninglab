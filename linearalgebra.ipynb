{
  "nbformat": 4,
  "nbformat_minor": 0,
  "metadata": {
    "colab": {
      "name": "Untitled2.ipynb",
      "provenance": [],
      "authorship_tag": "ABX9TyOgKSVVqRvkN/LEQsno3zXO",
      "include_colab_link": true
    },
    "kernelspec": {
      "name": "python3",
      "display_name": "Python 3"
    },
    "language_info": {
      "name": "python"
    }
  },
  "cells": [
    {
      "cell_type": "markdown",
      "metadata": {
        "id": "view-in-github",
        "colab_type": "text"
      },
      "source": [
        "<a href=\"https://colab.research.google.com/github/lohith261/machinelearninglab/blob/main/linearalgebra.ipynb\" target=\"_parent\"><img src=\"https://colab.research.google.com/assets/colab-badge.svg\" alt=\"Open In Colab\"/></a>"
      ]
    },
    {
      "cell_type": "code",
      "metadata": {
        "colab": {
          "base_uri": "https://localhost:8080/"
        },
        "id": "goiOTGNM6Scc",
        "outputId": "09c905c0-d9e9-4da9-d2b9-82b2c9261613"
      },
      "source": [
        "a=3\n",
        "a"
      ],
      "execution_count": null,
      "outputs": [
        {
          "output_type": "execute_result",
          "data": {
            "text/plain": [
              "3"
            ]
          },
          "metadata": {},
          "execution_count": 1
        }
      ]
    },
    {
      "cell_type": "code",
      "metadata": {
        "colab": {
          "base_uri": "https://localhost:8080/"
        },
        "id": "hgVCArey7I-4",
        "outputId": "ec438d34-a95d-49a7-a62d-55aa17d6469b"
      },
      "source": [
        "mike=17\n",
        "print(mike*a+1)"
      ],
      "execution_count": null,
      "outputs": [
        {
          "output_type": "stream",
          "text": [
            "52\n"
          ],
          "name": "stdout"
        }
      ]
    },
    {
      "cell_type": "code",
      "metadata": {
        "colab": {
          "base_uri": "https://localhost:8080/"
        },
        "id": "xEfjuhlU7r75",
        "outputId": "f9adcd95-ff1a-4176-a640-b4442ec07613"
      },
      "source": [
        "greeting='hello'\n",
        "print(greeting)"
      ],
      "execution_count": null,
      "outputs": [
        {
          "output_type": "stream",
          "text": [
            "hello\n"
          ],
          "name": "stdout"
        }
      ]
    },
    {
      "cell_type": "code",
      "metadata": {
        "colab": {
          "base_uri": "https://localhost:8080/"
        },
        "id": "YN2EquSV8WyQ",
        "outputId": "47ef1c0d-70fa-43c1-e39a-af758bf828ec"
      },
      "source": [
        "list=[1,2,3,4]\n",
        "list"
      ],
      "execution_count": null,
      "outputs": [
        {
          "output_type": "execute_result",
          "data": {
            "text/plain": [
              "[1, 2, 3, 4]"
            ]
          },
          "metadata": {},
          "execution_count": 6
        }
      ]
    },
    {
      "cell_type": "code",
      "metadata": {
        "colab": {
          "base_uri": "https://localhost:8080/"
        },
        "id": "zm1zZWdJ8jIf",
        "outputId": "24af0507-83f3-4d85-9df9-4c0c99cab1a5"
      },
      "source": [
        "import numpy as np\n",
        "np.mean(list)"
      ],
      "execution_count": null,
      "outputs": [
        {
          "output_type": "execute_result",
          "data": {
            "text/plain": [
              "2.5"
            ]
          },
          "metadata": {},
          "execution_count": 7
        }
      ]
    },
    {
      "cell_type": "code",
      "metadata": {
        "colab": {
          "base_uri": "https://localhost:8080/"
        },
        "id": "TD84VbLY8txS",
        "outputId": "37834c80-fd90-4d1d-f75a-bf5c32d21719"
      },
      "source": [
        "np.linspace(1,10,7)"
      ],
      "execution_count": null,
      "outputs": [
        {
          "output_type": "execute_result",
          "data": {
            "text/plain": [
              "array([ 1. ,  2.5,  4. ,  5.5,  7. ,  8.5, 10. ])"
            ]
          },
          "metadata": {},
          "execution_count": 8
        }
      ]
    },
    {
      "cell_type": "code",
      "metadata": {
        "colab": {
          "base_uri": "https://localhost:8080/"
        },
        "id": "MHTFsOmA8upn",
        "outputId": "00533cc7-d40a-495a-b020-2e574aa88753"
      },
      "source": [
        "np.linspace(4,100,15)"
      ],
      "execution_count": null,
      "outputs": [
        {
          "output_type": "execute_result",
          "data": {
            "text/plain": [
              "array([  4.        ,  10.85714286,  17.71428571,  24.57142857,\n",
              "        31.42857143,  38.28571429,  45.14285714,  52.        ,\n",
              "        58.85714286,  65.71428571,  72.57142857,  79.42857143,\n",
              "        86.28571429,  93.14285714, 100.        ])"
            ]
          },
          "metadata": {},
          "execution_count": 10
        }
      ]
    },
    {
      "cell_type": "code",
      "metadata": {
        "colab": {
          "base_uri": "https://localhost:8080/",
          "height": 282
        },
        "id": "xjb0OEUY8ufh",
        "outputId": "11cca13e-e7f5-444e-c2fa-57c89a1b7a23"
      },
      "source": [
        "import matplotlib.pyplot as plt\n",
        "import numpy as np\n",
        "plt.plot(1,3)"
      ],
      "execution_count": null,
      "outputs": [
        {
          "output_type": "execute_result",
          "data": {
            "text/plain": [
              "[<matplotlib.lines.Line2D at 0x7f5ebfc5d650>]"
            ]
          },
          "metadata": {},
          "execution_count": 11
        },
        {
          "output_type": "display_data",
          "data": {
            "image/png": "[encoded data removed]",
            "text/plain": [
              "<Figure size 432x288 with 1 Axes>"
            ]
          },
          "metadata": {
            "needs_background": "light"
          }
        }
      ]
    },
    {
      "cell_type": "code",
      "metadata": {
        "colab": {
          "base_uri": "https://localhost:8080/",
          "height": 282
        },
        "id": "Zqmm0A2w8uQX",
        "outputId": "bd7a1bd6-73ef-4efc-a7f7-5576d7036a31"
      },
      "source": [
        "plt.plot(1,3,'ro')"
      ],
      "execution_count": null,
      "outputs": [
        {
          "output_type": "execute_result",
          "data": {
            "text/plain": [
              "[<matplotlib.lines.Line2D at 0x7f5ec0294fd0>]"
            ]
          },
          "metadata": {},
          "execution_count": 12
        },
        {
          "output_type": "display_data",
          "data": {
            "image/png": "[encoded data removed]",
            "text/plain": [
              "<Figure size 432x288 with 1 Axes>"
            ]
          },
          "metadata": {
            "needs_background": "light"
          }
        }
      ]
    },
    {
      "cell_type": "code",
      "metadata": {
        "colab": {
          "base_uri": "https://localhost:8080/",
          "height": 282
        },
        "id": "P_BXwr0C9e3a",
        "outputId": "73377d8a-fb0b-4583-cb32-42a447ee127f"
      },
      "source": [
        "x=np.arange(-9,10)\n",
        "print(x)\n",
        "y=x**2\n",
        "plt.plot(x,y,'r')\n",
        "plt.plot(x,y/2,'gs')\n",
        "plt.show()"
      ],
      "execution_count": null,
      "outputs": [
        {
          "output_type": "stream",
          "text": [
            "[-9 -8 -7 -6 -5 -4 -3 -2 -1  0  1  2  3  4  5  6  7  8  9]\n"
          ],
          "name": "stdout"
        },
        {
          "output_type": "display_data",
          "data": {
            "image/png": "[encoded data removed]",
            "text/plain": [
              "<Figure size 432x288 with 1 Axes>"
            ]
          },
          "metadata": {
            "needs_background": "light"
          }
        }
      ]
    },
    {
      "cell_type": "code",
      "metadata": {
        "colab": {
          "base_uri": "https://localhost:8080/",
          "height": 282
        },
        "id": "4XTDQJxz9exA",
        "outputId": "f4f2f247-4652-41c4-c912-bea4f09ce69a"
      },
      "source": [
        "plt.plot([0,3],[-1,1])\n",
        "plt.show"
      ],
      "execution_count": null,
      "outputs": [
        {
          "output_type": "execute_result",
          "data": {
            "text/plain": [
              "<function matplotlib.pyplot.show>"
            ]
          },
          "metadata": {},
          "execution_count": 14
        },
        {
          "output_type": "display_data",
          "data": {
            "image/png": "[encoded data removed]",
            "text/plain": [
              "<Figure size 432x288 with 1 Axes>"
            ]
          },
          "metadata": {
            "needs_background": "light"
          }
        }
      ]
    },
    {
      "cell_type": "code",
      "metadata": {
        "colab": {
          "base_uri": "https://localhost:8080/"
        },
        "id": "_7PuF7l79erV",
        "outputId": "17ec6ecb-6592-48ba-8245-41b8755c8543"
      },
      "source": [
        "M=np.random.randint(0,10,size=(4,5))\n",
        "M"
      ],
      "execution_count": null,
      "outputs": [
        {
          "output_type": "execute_result",
          "data": {
            "text/plain": [
              "array([[6, 2, 8, 7, 0],\n",
              "       [9, 3, 1, 3, 3],\n",
              "       [1, 7, 7, 0, 6],\n",
              "       [9, 2, 2, 2, 2]])"
            ]
          },
          "metadata": {},
          "execution_count": 15
        }
      ]
    },
    {
      "cell_type": "code",
      "metadata": {
        "colab": {
          "base_uri": "https://localhost:8080/",
          "height": 286
        },
        "id": "ZF-EmncX9ejM",
        "outputId": "46c43efb-7598-4005-ac3e-f5b5e967f235"
      },
      "source": [
        "plt.imshow(M)"
      ],
      "execution_count": null,
      "outputs": [
        {
          "output_type": "execute_result",
          "data": {
            "text/plain": [
              "<matplotlib.image.AxesImage at 0x7f5eca17ead0>"
            ]
          },
          "metadata": {},
          "execution_count": 16
        },
        {
          "output_type": "display_data",
          "data": {
            "image/png": "[encoded data removed]",
            "text/plain": [
              "<Figure size 432x288 with 1 Axes>"
            ]
          },
          "metadata": {
            "needs_background": "light"
          }
        }
      ]
    },
    {
      "cell_type": "code",
      "metadata": {
        "colab": {
          "base_uri": "https://localhost:8080/"
        },
        "id": "sivvLVtS-fhL",
        "outputId": "e9c1c21c-6eeb-411c-8947-2f3835044b29"
      },
      "source": [
        "vec=[3,4,5,2]\n",
        "s=3\n",
        "vec*s"
      ],
      "execution_count": null,
      "outputs": [
        {
          "output_type": "execute_result",
          "data": {
            "text/plain": [
              "[3, 4, 5, 2, 3, 4, 5, 2, 3, 4, 5, 2]"
            ]
          },
          "metadata": {},
          "execution_count": 17
        }
      ]
    },
    {
      "cell_type": "code",
      "metadata": {
        "colab": {
          "base_uri": "https://localhost:8080/"
        },
        "id": "BU1BK_VK-fet",
        "outputId": "f8e56c67-aa42-4c60-80d0-f82745d1c97b"
      },
      "source": [
        "vec2d=np.array([1,2])\n",
        "s1=2\n",
        "s2=-5\n",
        "s3=-1\n",
        "vec2d[0]"
      ],
      "execution_count": null,
      "outputs": [
        {
          "output_type": "execute_result",
          "data": {
            "text/plain": [
              "1"
            ]
          },
          "metadata": {},
          "execution_count": 18
        }
      ]
    },
    {
      "cell_type": "code",
      "metadata": {
        "colab": {
          "base_uri": "https://localhost:8080/",
          "height": 282
        },
        "id": "iTm1NYM6-fUa",
        "outputId": "63b85f52-f9e3-43f8-fcf9-7e15ae977a8c"
      },
      "source": [
        "plt.plot([0,vec2d[0]],[0,vec2d[1]],'bs--')"
      ],
      "execution_count": null,
      "outputs": [
        {
          "output_type": "execute_result",
          "data": {
            "text/plain": [
              "[<matplotlib.lines.Line2D at 0x7f5ebefecd90>]"
            ]
          },
          "metadata": {},
          "execution_count": 19
        },
        {
          "output_type": "display_data",
          "data": {
            "image/png": "[encoded data removed]",
            "text/plain": [
              "<Figure size 432x288 with 1 Axes>"
            ]
          },
          "metadata": {
            "needs_background": "light"
          }
        }
      ]
    },
    {
      "cell_type": "code",
      "metadata": {
        "colab": {
          "base_uri": "https://localhost:8080/",
          "height": 286
        },
        "id": "3w3jBwck-fRu",
        "outputId": "754245b8-59a5-483d-b5fa-222c2faf2f09"
      },
      "source": [
        "plt.plot([0,vec2d[0]],[0,vec2d[1]],'bs-')\n",
        "plt.plot([0,s1*vec2d[0]],[0,vec2d[1]],'r.--')\n",
        "plt.axis('square')\n",
        "plt.xlim([-4,4])\n",
        "plt.ylim([-4,4])\n",
        "plt.grid()\n",
        "plt.legend()\n",
        "plt.show()"
      ],
      "execution_count": null,
      "outputs": [
        {
          "output_type": "stream",
          "text": [
            "No handles with labels found to put in legend.\n"
          ],
          "name": "stderr"
        },
        {
          "output_type": "display_data",
          "data": {
            "image/png": "[encoded data removed]",
            "text/plain": [
              "<Figure size 432x288 with 1 Axes>"
            ]
          },
          "metadata": {
            "needs_background": "light"
          }
        }
      ]
    },
    {
      "cell_type": "code",
      "metadata": {
        "colab": {
          "base_uri": "https://localhost:8080/"
        },
        "id": "UO9BuZY--fPF",
        "outputId": "b65c2204-8c98-483a-a5d6-045dbdf3f084"
      },
      "source": [
        "v1=np.array([[2,3,-1],[4,2,6]])\n",
        "print(v1)\n",
        "print()\n",
        "print(v1.T)"
      ],
      "execution_count": null,
      "outputs": [
        {
          "output_type": "stream",
          "text": [
            "[[ 2  3 -1]\n",
            " [ 4  2  6]]\n",
            "\n",
            "[[ 2  4]\n",
            " [ 3  2]\n",
            " [-1  6]]\n"
          ],
          "name": "stdout"
        }
      ]
    },
    {
      "cell_type": "code",
      "metadata": {
        "colab": {
          "base_uri": "https://localhost:8080/"
        },
        "id": "PuTuKKgb-fMm",
        "outputId": "60fd818c-9333-455a-bd4d-317662072489"
      },
      "source": [
        "m2=np.random.randn(3,3)\n",
        "print(m2)\n",
        "print()\n",
        "print(m2.T.T)"
      ],
      "execution_count": null,
      "outputs": [
        {
          "output_type": "stream",
          "text": [
            "[[ 1.34535343 -1.37986885  1.00998553]\n",
            " [ 1.18442873  0.61676992 -1.42444371]\n",
            " [ 0.63234401  0.98334371  0.20511769]]\n",
            "\n",
            "[[ 1.34535343 -1.37986885  1.00998553]\n",
            " [ 1.18442873  0.61676992 -1.42444371]\n",
            " [ 0.63234401  0.98334371  0.20511769]]\n"
          ],
          "name": "stdout"
        }
      ]
    },
    {
      "cell_type": "code",
      "metadata": {
        "colab": {
          "base_uri": "https://localhost:8080/"
        },
        "id": "ZdDJxk4t-fJj",
        "outputId": "5e638b99-aa98-4e7b-ee93-864d6e85729c"
      },
      "source": [
        "M1=np.random.randn(4,5)\n",
        "M2=np.random.randn(4,5)\n",
        "print(M1)\n",
        "print()\n",
        "print(M2)\n",
        "print()\n",
        "print(np.matmul(M1,M2.T))\n",
        "print()\n",
        "print(M1@M2.T)\n",
        "print()\n",
        "print(np.matmul(M1,M2.T) - M1@M2.T)"
      ],
      "execution_count": null,
      "outputs": [
        {
          "output_type": "stream",
          "text": [
            "[[-0.47213945 -1.01738841  0.55932634  0.83396847 -1.15307877]\n",
            " [ 0.4058372  -1.39147183 -0.64365877 -0.78721016 -0.17409704]\n",
            " [ 0.09920002  0.98030527 -0.57482744 -0.47964301 -0.35079665]\n",
            " [-1.09974099 -0.24235743 -0.58573647  0.20450054  0.39502331]]\n",
            "\n",
            "[[ 0.68535061  0.05604337 -0.08144137 -0.94721291  1.46916703]\n",
            " [-0.17063193  0.60350314  1.14273872  0.66905234  0.47193111]\n",
            " [-0.34415455 -0.40909893  0.15675863 -1.13388059 -0.02468767]\n",
            " [-1.06035613  1.43512328 -1.29788797 -0.40436561  0.02798507]]\n",
            "\n",
            "[[-2.91016226  0.11952365 -0.25077313 -2.05488192]\n",
            " [ 0.74245645 -2.25338681  1.22558022 -1.27842   ]\n",
            " [ 0.10868632 -0.56864508  0.0272271   2.23186725]\n",
            " [-0.33293782 -0.30471093  0.14417839  1.5068864 ]]\n",
            "\n",
            "[[-2.91016226  0.11952365 -0.25077313 -2.05488192]\n",
            " [ 0.74245645 -2.25338681  1.22558022 -1.27842   ]\n",
            " [ 0.10868632 -0.56864508  0.0272271   2.23186725]\n",
            " [-0.33293782 -0.30471093  0.14417839  1.5068864 ]]\n",
            "\n",
            "[[0. 0. 0. 0.]\n",
            " [0. 0. 0. 0.]\n",
            " [0. 0. 0. 0.]\n",
            " [0. 0. 0. 0.]]\n"
          ],
          "name": "stdout"
        }
      ]
    },
    {
      "cell_type": "code",
      "metadata": {
        "colab": {
          "base_uri": "https://localhost:8080/"
        },
        "id": "73fH5M3oAJeG",
        "outputId": "4b0e3c6b-5f3a-41b3-cf35-e0cfb910d080"
      },
      "source": [
        "A=np.random.randn(4,4)\n",
        "Ainv = np.linalg.inv(A)\n",
        "print(A)\n",
        "print()\n",
        "print(Ainv)"
      ],
      "execution_count": null,
      "outputs": [
        {
          "output_type": "stream",
          "text": [
            "[[-0.9953285  -0.97242966  2.02742198 -0.27626119]\n",
            " [ 1.27885987  1.86445357  0.20937237  2.20472757]\n",
            " [-0.7576079  -0.56091551  0.41737697  1.74862117]\n",
            " [ 0.45449014 -1.1663374  -2.57118117  1.46059865]]\n",
            "\n",
            "[[ 1.09587279  0.64630632 -1.23943927  0.71554735]\n",
            " [-0.87593436 -0.13886647  0.54867446 -0.61293203]\n",
            " [ 0.61743421  0.27386632 -0.30660894  0.07046109]\n",
            " [ 0.04644454  0.17010484  0.28406527  0.09658605]]\n"
          ],
          "name": "stdout"
        }
      ]
    },
    {
      "cell_type": "code",
      "metadata": {
        "colab": {
          "base_uri": "https://localhost:8080/",
          "height": 324
        },
        "id": "AkHhf0rYAJcA",
        "outputId": "3792370b-355e-48b8-912d-c49175dcdb23"
      },
      "source": [
        "fig,ax=plt.subplots(1,3,figsize=(6,5))\n",
        "ax[0].imshow(A)\n",
        "ax[0].set_title('A')\n",
        "ax[1].imshow(Ainv)\n",
        "ax[1].set_title('B')\n",
        "plt.show()"
      ],
      "execution_count": null,
      "outputs": [
        {
          "output_type": "display_data",
          "data": {
            "image/png": "[encoded data removed]",
            "text/plain": [
              "<Figure size 432x360 with 3 Axes>"
            ]
          },
          "metadata": {
            "needs_background": "light"
          }
        }
      ]
    },
    {
      "cell_type": "code",
      "metadata": {
        "id": "za3AhGXTAJZr"
      },
      "source": [
        ""
      ],
      "execution_count": null,
      "outputs": []
    }
  ]
}