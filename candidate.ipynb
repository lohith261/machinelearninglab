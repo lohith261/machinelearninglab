{
  "nbformat": 4,
  "nbformat_minor": 0,
  "metadata": {
    "colab": {
      "name": "candidate.ipynb",
      "provenance": [],
      "include_colab_link": true
    },
    "kernelspec": {
      "name": "python3",
      "display_name": "Python 3"
    },
    "language_info": {
      "name": "python"
    }
  },
  "cells": [
    {
      "cell_type": "markdown",
      "metadata": {
        "id": "view-in-github",
        "colab_type": "text"
      },
      "source": [
        "<a href=\"https://colab.research.google.com/github/lohith261/machinelearninglab/blob/main/candidate.ipynb\" target=\"_parent\"><img src=\"https://colab.research.google.com/assets/colab-badge.svg\" alt=\"Open In Colab\"/></a>"
      ]
    },
    {
      "cell_type": "code",
      "metadata": {
        "id": "Ixs5G-oPiUbk"
      },
      "source": [
        "import random\n",
        "import csv"
      ],
      "execution_count": null,
      "outputs": []
    },
    {
      "cell_type": "code",
      "metadata": {
        "id": "q9oHPKc9jHt4"
      },
      "source": [
        "def g_0(n):\n",
        "    return (\"?\",)*n\n",
        "\n",
        "def s_0(n):\n",
        "    return ('0',)*n"
      ],
      "execution_count": null,
      "outputs": []
    },
    {
      "cell_type": "code",
      "metadata": {
        "id": "mvOa58LwjH6h"
      },
      "source": [
        "def more_general(h1, h2):\n",
        "    more_general_parts = []\n",
        "    for x, y in zip(h1, h2):\n",
        "        mg = x == \"?\" or (x != \"0\" and (x == y or y == \"0\"))\n",
        "        more_general_parts.append(mg)\n",
        "    return all(more_general_parts)"
      ],
      "execution_count": null,
      "outputs": []
    },
    {
      "cell_type": "code",
      "metadata": {
        "id": "Yt1hFYckjH9y"
      },
      "source": [
        "# min_generalizations\n",
        "def fulfills(example, hypothesis):\n",
        "    ### the implementation is the same as for hypotheses:\n",
        "    return more_general(hypothesis, example)\n",
        "\n",
        "def min_generalizations(h, x):\n",
        "    h_new = list(h)\n",
        "    for i in range(len(h)):\n",
        "        if not fulfills(x[i:i+1], h[i:i+1]):\n",
        "            h_new[i] = '?' if h[i] != '0' else x[i]\n",
        "    return [tuple(h_new)]"
      ],
      "execution_count": null,
      "outputs": []
    },
    {
      "cell_type": "code",
      "metadata": {
        "id": "xocNHLSujIAs"
      },
      "source": [
        "def min_specializations(h, domains, x):\n",
        "    results = []\n",
        "    for i in range(len(h)):\n",
        "        if h[i] == \"?\":\n",
        "            for val in domains[i]:\n",
        "                if x[i] != val:\n",
        "                    h_new = h[:i] + (val,) + h[i+1:]\n",
        "                    results.append(h_new)\n",
        "        elif h[i] != \"0\":\n",
        "            h_new = h[:i] + ('0',) + h[i+1:]\n",
        "            results.append(h_new)\n",
        "    return results"
      ],
      "execution_count": null,
      "outputs": []
    },
    {
      "cell_type": "code",
      "metadata": {
        "colab": {
          "base_uri": "https://localhost:8080/"
        },
        "id": "xbKKuhrKjU2t",
        "outputId": "c257e432-c87f-4a2d-d13c-cea3f1365dc4"
      },
      "source": [
        "with open('/content/enjoysport.csv')  as csvFile:\n",
        "        examples = [tuple(line) for line in csv.reader(csvFile)]\n",
        "examples"
      ],
      "execution_count": null,
      "outputs": [
        {
          "output_type": "execute_result",
          "data": {
            "text/plain": [
              "[('Sunny', 'Warm', 'Normal', 'Strong', 'Warm', 'Same', 'Yes'),\n",
              " ('Sunny', 'Warm', 'High', 'Strong', 'Warm', 'Same', 'Yes'),\n",
              " ('Rainy', 'Cold', 'High', 'Strong', 'Warm', 'Change', 'No'),\n",
              " ('Sunny', 'Warm', 'High', 'Strong', 'Cool', 'Change', 'Yes')]"
            ]
          },
          "metadata": {},
          "execution_count": 14
        }
      ]
    },
    {
      "cell_type": "code",
      "metadata": {
        "colab": {
          "base_uri": "https://localhost:8080/"
        },
        "id": "MD5AtXkejU5x",
        "outputId": "d8f74594-af7e-4dac-8ee8-8c3171828005"
      },
      "source": [
        "def get_domains(examples):\n",
        "    d = [set() for i in examples[0]]\n",
        "    for x in examples:\n",
        "        for i, xi in enumerate(x):\n",
        "            d[i].add(xi)\n",
        "    return [list(sorted(x)) for x in d]\n",
        "\n",
        "get_domains(examples)"
      ],
      "execution_count": null,
      "outputs": [
        {
          "output_type": "execute_result",
          "data": {
            "text/plain": [
              "[['average', 'below average', 'not regular', 'regular'],\n",
              " ['absent', 'average', 'below average', 'excellent', 'good', 'very bad'],\n",
              " ['average', 'bad', 'below average', 'excellent', 'good'],\n",
              " ['FAIL', 'PASS']]"
            ]
          },
          "metadata": {},
          "execution_count": 9
        }
      ]
    },
    {
      "cell_type": "code",
      "metadata": {
        "id": "_4rSPS9xjID1"
      },
      "source": [
        "def candidate_elimination(examples):\n",
        "    domains = get_domains(examples)[:-1]\n",
        "    \n",
        "    G = set([g_0(len(domains))])\n",
        "    S = set([s_0(len(domains))])\n",
        "    i=0\n",
        "    print(\"\\n G[{0}]:\".format(i),G)\n",
        "    print(\"\\n S[{0}]:\".format(i),S)\n",
        "    for xcx in examples:\n",
        "        i=i+1\n",
        "        x, cx = xcx[:-1], xcx[-1]  # Splitting data into attributes and decisions\n",
        "        if cx=='Y': # x is positive example\n",
        "            G = {g for g in G if fulfills(x, g)}\n",
        "            S = generalize_S(x, G, S)\n",
        "        else: # x is negative example\n",
        "            S = {s for s in S if not fulfills(x, s)}\n",
        "            G = specialize_G(x, domains, G, S)\n",
        "        print(\"\\n G[{0}]:\".format(i),G)\n",
        "        print(\"\\n S[{0}]:\".format(i),S)\n",
        "    return"
      ],
      "execution_count": null,
      "outputs": []
    },
    {
      "cell_type": "code",
      "metadata": {
        "id": "VEXZZYZ4jmOi"
      },
      "source": [
        "def generalize_S(x, G, S):\n",
        "    S_prev = list(S)\n",
        "    for s in S_prev:\n",
        "        if s not in S:\n",
        "            continue\n",
        "        if not fulfills(x, s):\n",
        "            S.remove(s)\n",
        "            Splus = min_generalizations(s, x)\n",
        "            ## keep only generalizations that have a counterpart in G\n",
        "            S.update([h for h in Splus if any([more_general(g,h) \n",
        "                                               for g in G])])\n",
        "            ## remove hypotheses less specific than any other in S\n",
        "            S.difference_update([h for h in S if \n",
        "                                 any([more_general(h, h1) \n",
        "                                      for h1 in S if h != h1])])\n",
        "    return S"
      ],
      "execution_count": null,
      "outputs": []
    },
    {
      "cell_type": "code",
      "metadata": {
        "id": "DID8yo55jmR5"
      },
      "source": [
        "def specialize_G(x, domains, G, S):\n",
        "    G_prev = list(G)\n",
        "    for g in G_prev:\n",
        "        if g not in G:\n",
        "            continue\n",
        "        if fulfills(x, g):\n",
        "            G.remove(g)\n",
        "            Gminus = min_specializations(g, domains, x)\n",
        "            ## keep only specializations that have a conuterpart in S\n",
        "            G.update([h for h in Gminus if any([more_general(h, s)\n",
        "                                                for s in S])])\n",
        "            ## remove hypotheses less general than any other in G\n",
        "            G.difference_update([h for h in G if \n",
        "                                 any([more_general(g1, h) \n",
        "                                      for g1 in G if h != g1])])\n",
        "    return G"
      ],
      "execution_count": null,
      "outputs": []
    },
    {
      "cell_type": "code",
      "metadata": {
        "colab": {
          "base_uri": "https://localhost:8080/"
        },
        "id": "48LcXGtxjud7",
        "outputId": "f98e8366-514c-4194-e1d3-50315cd0aaab"
      },
      "source": [
        "candidate_elimination(examples)"
      ],
      "execution_count": null,
      "outputs": [
        {
          "output_type": "stream",
          "name": "stdout",
          "text": [
            "\n",
            " G[0]: {('?', '?', '?')}\n",
            "\n",
            " S[0]: {('0', '0', '0')}\n",
            "\n",
            " G[1]: {('?', 'good', '?'), ('?', 'average', '?'), ('regular', '?', '?'), ('?', '?', 'average'), ('?', 'below average', '?'), ('?', '?', 'good'), ('?', '?', 'below average'), ('?', 'excellent', '?'), ('average', '?', '?'), ('?', 'absent', '?'), ('?', '?', 'excellent'), ('below average', '?', '?')}\n",
            "\n",
            " S[1]: {('0', '0', '0')}\n",
            "\n",
            " G[2]: {('average', '?', '?'), ('?', '?', 'excellent'), ('below average', '?', '?'), ('not regular', 'excellent', '?'), ('regular', 'very bad', '?'), ('?', 'below average', '?'), ('?', 'absent', '?'), ('?', 'good', '?'), ('?', 'average', '?'), ('?', '?', 'average'), ('?', '?', 'good'), ('?', '?', 'below average')}\n",
            "\n",
            " S[2]: {('0', '0', '0')}\n",
            "\n",
            " G[3]: {('average', '?', '?'), ('?', '?', 'excellent'), ('below average', '?', '?'), ('not regular', 'excellent', '?'), ('regular', 'very bad', '?'), ('?', 'below average', '?'), ('not regular', '?', 'average'), ('?', 'absent', '?'), ('?', 'good', '?'), ('?', 'very bad', 'average'), ('?', 'average', '?'), ('?', '?', 'good'), ('?', '?', 'below average')}\n",
            "\n",
            " S[3]: {('0', '0', '0')}\n",
            "\n",
            " G[4]: {('average', '?', '?'), ('?', '?', 'excellent'), ('below average', '?', '?'), ('not regular', 'excellent', '?'), ('regular', 'very bad', '?'), ('?', 'below average', '?'), ('not regular', '?', 'average'), ('?', 'absent', '?'), ('?', 'good', '?'), ('?', 'very bad', 'average'), ('?', 'average', '?'), ('?', '?', 'good'), ('?', '?', 'below average')}\n",
            "\n",
            " S[4]: {('0', '0', '0')}\n",
            "\n",
            " G[5]: {('average', 'very bad', '?'), ('not regular', '?', 'excellent'), ('below average', '?', '?'), ('?', 'very bad', 'excellent'), ('average', '?', 'bad'), ('not regular', 'excellent', '?'), ('regular', 'very bad', '?'), ('?', 'below average', '?'), ('not regular', '?', 'average'), ('?', 'absent', '?'), ('average', '?', 'average'), ('?', 'good', '?'), ('?', 'very bad', 'average'), ('?', 'average', '?'), ('regular', '?', 'excellent'), ('?', '?', 'good'), ('?', '?', 'below average')}\n",
            "\n",
            " S[5]: {('0', '0', '0')}\n",
            "\n",
            " G[6]: {('regular', '?', 'below average'), ('average', 'very bad', '?'), ('not regular', '?', 'excellent'), ('below average', '?', '?'), ('?', 'very bad', 'excellent'), ('average', '?', 'bad'), ('not regular', 'excellent', '?'), ('regular', 'very bad', '?'), ('?', 'below average', '?'), ('not regular', '?', 'average'), ('not regular', '?', 'below average'), ('?', 'absent', '?'), ('average', '?', 'average'), ('?', 'good', '?'), ('?', 'very bad', 'average'), ('?', 'average', '?'), ('?', 'very bad', 'below average'), ('regular', '?', 'excellent'), ('?', '?', 'good')}\n",
            "\n",
            " S[6]: {('0', '0', '0')}\n",
            "\n",
            " G[7]: {('regular', '?', 'below average'), ('average', 'very bad', '?'), ('not regular', '?', 'excellent'), ('below average', '?', '?'), ('?', 'very bad', 'excellent'), ('average', '?', 'bad'), ('not regular', 'excellent', '?'), ('regular', 'very bad', '?'), ('?', 'below average', '?'), ('not regular', '?', 'average'), ('not regular', '?', 'below average'), ('?', 'absent', '?'), ('average', '?', 'average'), ('?', 'good', '?'), ('?', 'very bad', 'average'), ('?', 'average', '?'), ('?', 'very bad', 'below average'), ('regular', '?', 'excellent'), ('?', '?', 'good')}\n",
            "\n",
            " S[7]: {('0', '0', '0')}\n",
            "\n",
            " G[8]: {('regular', '?', 'below average'), ('?', 'good', 'average'), ('average', 'very bad', '?'), ('not regular', '?', 'excellent'), ('?', 'good', 'below average'), ('below average', '?', '?'), ('?', 'very bad', 'excellent'), ('average', '?', 'bad'), ('not regular', 'excellent', '?'), ('regular', 'very bad', '?'), ('?', 'below average', '?'), ('not regular', '?', 'average'), ('?', 'good', 'excellent'), ('not regular', '?', 'below average'), ('?', 'absent', '?'), ('average', 'good', '?'), ('average', '?', 'average'), ('?', 'very bad', 'average'), ('?', 'average', '?'), ('not regular', 'good', '?'), ('?', 'very bad', 'below average'), ('regular', '?', 'excellent'), ('?', '?', 'good')}\n",
            "\n",
            " S[8]: {('0', '0', '0')}\n",
            "\n",
            " G[9]: {('regular', '?', 'below average'), ('?', 'good', 'average'), ('average', 'very bad', '?'), ('not regular', '?', 'excellent'), ('?', 'good', 'below average'), ('below average', '?', '?'), ('?', 'very bad', 'excellent'), ('average', '?', 'bad'), ('not regular', 'excellent', '?'), ('regular', 'very bad', '?'), ('?', 'below average', '?'), ('not regular', '?', 'average'), ('?', 'good', 'excellent'), ('not regular', '?', 'below average'), ('?', 'absent', '?'), ('average', 'good', '?'), ('average', '?', 'average'), ('not regular', 'good', '?'), ('?', 'very bad', 'below average'), ('?', 'very bad', 'average'), ('?', 'average', '?'), ('?', '?', 'good')}\n",
            "\n",
            " S[9]: {('0', '0', '0')}\n",
            "\n",
            " G[10]: {('regular', '?', 'below average'), ('?', 'good', 'average'), ('below average', 'good', '?'), ('average', 'very bad', '?'), ('not regular', '?', 'excellent'), ('?', 'good', 'below average'), ('below average', '?', 'bad'), ('?', 'very bad', 'excellent'), ('below average', '?', 'excellent'), ('average', '?', 'bad'), ('not regular', 'excellent', '?'), ('regular', 'very bad', '?'), ('?', 'below average', '?'), ('not regular', '?', 'average'), ('?', 'good', 'excellent'), ('not regular', '?', 'below average'), ('?', 'absent', '?'), ('average', 'good', '?'), ('average', '?', 'average'), ('below average', '?', 'below average'), ('not regular', 'good', '?'), ('?', 'very bad', 'below average'), ('?', 'very bad', 'average'), ('?', 'average', '?'), ('?', '?', 'good'), ('below average', 'very bad', '?')}\n",
            "\n",
            " S[10]: {('0', '0', '0')}\n",
            "\n",
            " G[11]: {('regular', '?', 'below average'), ('?', 'good', 'average'), ('below average', 'good', '?'), ('average', 'very bad', '?'), ('not regular', '?', 'excellent'), ('?', 'good', 'below average'), ('below average', '?', 'bad'), ('?', 'very bad', 'excellent'), ('below average', '?', 'excellent'), ('average', '?', 'bad'), ('not regular', 'excellent', '?'), ('regular', 'very bad', '?'), ('?', 'below average', '?'), ('not regular', '?', 'average'), ('?', 'good', 'excellent'), ('not regular', '?', 'below average'), ('?', 'absent', '?'), ('average', 'good', '?'), ('average', '?', 'average'), ('below average', '?', 'below average'), ('not regular', 'good', '?'), ('?', 'very bad', 'below average'), ('?', 'very bad', 'average'), ('?', 'average', '?'), ('?', '?', 'good'), ('below average', 'very bad', '?')}\n",
            "\n",
            " S[11]: {('0', '0', '0')}\n",
            "\n",
            " G[12]: {('?', 'below average', 'average'), ('regular', '?', 'below average'), ('?', 'good', 'average'), ('below average', 'good', '?'), ('average', 'very bad', '?'), ('not regular', '?', 'excellent'), ('?', 'good', 'below average'), ('below average', '?', 'bad'), ('?', 'very bad', 'excellent'), ('below average', '?', 'excellent'), ('?', 'below average', 'below average'), ('average', '?', 'bad'), ('?', 'below average', 'excellent'), ('not regular', 'excellent', '?'), ('regular', 'very bad', '?'), ('below average', 'below average', '?'), ('not regular', '?', 'average'), ('?', 'good', 'excellent'), ('average', 'below average', '?'), ('not regular', '?', 'below average'), ('?', 'absent', '?'), ('average', 'good', '?'), ('average', '?', 'average'), ('below average', '?', 'below average'), ('not regular', 'good', '?'), ('?', 'very bad', 'below average'), ('regular', 'below average', '?'), ('?', 'very bad', 'average'), ('?', 'average', '?'), ('?', '?', 'good'), ('below average', 'very bad', '?')}\n",
            "\n",
            " S[12]: {('0', '0', '0')}\n",
            "\n",
            " G[13]: {('?', 'below average', 'average'), ('regular', '?', 'below average'), ('?', 'good', 'average'), ('below average', 'good', '?'), ('average', 'very bad', '?'), ('not regular', '?', 'excellent'), ('?', 'good', 'below average'), ('below average', '?', 'bad'), ('?', 'good', 'good'), ('?', 'very bad', 'excellent'), ('below average', '?', 'excellent'), ('?', 'below average', 'below average'), ('regular', '?', 'good'), ('average', '?', 'bad'), ('?', 'below average', 'excellent'), ('not regular', 'excellent', '?'), ('regular', 'very bad', '?'), ('below average', 'below average', '?'), ('not regular', '?', 'average'), ('?', 'good', 'excellent'), ('average', 'below average', '?'), ('not regular', '?', 'below average'), ('?', 'absent', '?'), ('average', 'good', '?'), ('average', '?', 'average'), ('below average', '?', 'below average'), ('?', 'very bad', 'good'), ('not regular', 'good', '?'), ('?', 'very bad', 'below average'), ('regular', 'below average', '?'), ('?', 'very bad', 'average'), ('?', 'average', '?'), ('average', '?', 'good'), ('not regular', '?', 'good'), ('below average', 'very bad', '?'), ('?', 'below average', 'good')}\n",
            "\n",
            " S[13]: {('0', '0', '0')}\n",
            "\n",
            " G[14]: {('?', 'below average', 'average'), ('regular', '?', 'below average'), ('?', 'good', 'average'), ('below average', 'good', '?'), ('average', 'very bad', '?'), ('not regular', '?', 'excellent'), ('?', 'good', 'below average'), ('below average', '?', 'bad'), ('?', 'good', 'good'), ('?', 'very bad', 'excellent'), ('below average', '?', 'excellent'), ('?', 'below average', 'below average'), ('regular', '?', 'good'), ('average', '?', 'bad'), ('?', 'below average', 'excellent'), ('not regular', 'excellent', '?'), ('regular', 'very bad', '?'), ('below average', 'below average', '?'), ('not regular', '?', 'average'), ('average', 'below average', '?'), ('not regular', '?', 'below average'), ('?', 'absent', '?'), ('average', 'good', '?'), ('average', '?', 'average'), ('below average', '?', 'below average'), ('?', 'very bad', 'good'), ('not regular', 'good', '?'), ('?', 'very bad', 'below average'), ('regular', 'below average', '?'), ('?', 'very bad', 'average'), ('?', 'average', '?'), ('average', '?', 'good'), ('not regular', '?', 'good'), ('below average', 'very bad', '?'), ('?', 'below average', 'good')}\n",
            "\n",
            " S[14]: {('0', '0', '0')}\n",
            "\n",
            " G[15]: {('?', 'below average', 'average'), ('regular', '?', 'below average'), ('?', 'good', 'average'), ('below average', 'good', '?'), ('average', 'very bad', '?'), ('not regular', '?', 'excellent'), ('?', 'good', 'below average'), ('below average', '?', 'bad'), ('?', 'good', 'good'), ('?', 'very bad', 'excellent'), ('below average', '?', 'excellent'), ('?', 'below average', 'below average'), ('regular', '?', 'good'), ('average', '?', 'bad'), ('?', 'below average', 'excellent'), ('regular', 'very bad', '?'), ('below average', 'below average', '?'), ('not regular', '?', 'average'), ('average', 'below average', '?'), ('not regular', '?', 'below average'), ('?', 'absent', '?'), ('average', 'good', '?'), ('average', '?', 'average'), ('below average', '?', 'below average'), ('?', 'very bad', 'good'), ('not regular', 'good', '?'), ('?', 'very bad', 'below average'), ('regular', 'below average', '?'), ('?', 'very bad', 'average'), ('?', 'average', '?'), ('average', '?', 'good'), ('not regular', '?', 'good'), ('below average', 'very bad', '?'), ('?', 'below average', 'good')}\n",
            "\n",
            " S[15]: {('0', '0', '0')}\n",
            "\n",
            " G[16]: {('?', 'below average', 'average'), ('regular', '?', 'below average'), ('?', 'good', 'average'), ('below average', 'good', '?'), ('average', 'very bad', '?'), ('?', 'good', 'below average'), ('below average', '?', 'bad'), ('?', 'good', 'good'), ('?', 'very bad', 'excellent'), ('below average', '?', 'excellent'), ('?', 'below average', 'below average'), ('regular', '?', 'good'), ('average', '?', 'bad'), ('?', 'below average', 'excellent'), ('regular', 'very bad', '?'), ('below average', 'below average', '?'), ('not regular', '?', 'average'), ('average', 'below average', '?'), ('not regular', '?', 'below average'), ('?', 'absent', '?'), ('average', 'good', '?'), ('average', '?', 'average'), ('below average', '?', 'below average'), ('?', 'very bad', 'good'), ('not regular', 'good', '?'), ('?', 'very bad', 'below average'), ('regular', 'below average', '?'), ('?', 'very bad', 'average'), ('?', 'average', '?'), ('average', '?', 'good'), ('not regular', '?', 'good'), ('below average', 'very bad', '?'), ('?', 'below average', 'good')}\n",
            "\n",
            " S[16]: {('0', '0', '0')}\n",
            "\n",
            " G[17]: {('?', 'below average', 'average'), ('regular', '?', 'below average'), ('?', 'good', 'average'), ('below average', 'good', '?'), ('average', 'very bad', '?'), ('?', 'good', 'below average'), ('below average', '?', 'bad'), ('?', 'good', 'good'), ('?', 'very bad', 'excellent'), ('below average', '?', 'excellent'), ('?', 'below average', 'below average'), ('regular', '?', 'good'), ('average', '?', 'bad'), ('regular', 'very bad', '?'), ('below average', 'below average', '?'), ('not regular', '?', 'average'), ('average', 'below average', '?'), ('not regular', '?', 'below average'), ('?', 'absent', '?'), ('average', 'good', '?'), ('average', '?', 'average'), ('below average', '?', 'below average'), ('?', 'very bad', 'good'), ('not regular', 'good', '?'), ('?', 'very bad', 'below average'), ('?', 'very bad', 'average'), ('?', 'average', '?'), ('average', '?', 'good'), ('not regular', '?', 'good'), ('regular', 'below average', 'bad'), ('below average', 'very bad', '?'), ('?', 'below average', 'good'), ('not regular', 'below average', 'excellent')}\n",
            "\n",
            " S[17]: {('0', '0', '0')}\n",
            "\n",
            " G[18]: {('?', 'below average', 'average'), ('regular', '?', 'below average'), ('?', 'good', 'average'), ('below average', 'good', '?'), ('average', 'very bad', '?'), ('?', 'good', 'below average'), ('below average', '?', 'bad'), ('?', 'good', 'good'), ('?', 'very bad', 'excellent'), ('below average', '?', 'excellent'), ('?', 'below average', 'below average'), ('regular', '?', 'good'), ('regular', 'very bad', '?'), ('below average', 'below average', '?'), ('not regular', '?', 'average'), ('average', 'below average', '?'), ('not regular', '?', 'below average'), ('?', 'absent', '?'), ('average', 'good', '?'), ('average', '?', 'average'), ('below average', '?', 'below average'), ('?', 'very bad', 'good'), ('not regular', 'good', '?'), ('?', 'very bad', 'below average'), ('?', 'very bad', 'average'), ('?', 'average', '?'), ('average', '?', 'good'), ('not regular', '?', 'good'), ('regular', 'below average', 'bad'), ('below average', 'very bad', '?'), ('?', 'below average', 'good'), ('not regular', 'below average', 'excellent')}\n",
            "\n",
            " S[18]: {('0', '0', '0')}\n",
            "\n",
            " G[19]: {('?', 'below average', 'average'), ('?', 'good', 'average'), ('?', 'average', 'average'), ('below average', 'average', '?'), ('below average', 'good', '?'), ('average', 'very bad', '?'), ('?', 'average', 'good'), ('?', 'good', 'below average'), ('below average', '?', 'bad'), ('?', 'good', 'good'), ('?', 'very bad', 'excellent'), ('average', 'average', '?'), ('below average', '?', 'excellent'), ('?', 'below average', 'below average'), ('regular', '?', 'good'), ('regular', 'excellent', 'below average'), ('regular', 'very bad', '?'), ('?', 'average', 'excellent'), ('below average', 'below average', '?'), ('not regular', '?', 'average'), ('not regular', 'average', '?'), ('average', 'below average', '?'), ('not regular', '?', 'below average'), ('?', 'absent', '?'), ('average', 'good', '?'), ('average', '?', 'average'), ('below average', '?', 'below average'), ('?', 'very bad', 'good'), ('not regular', 'good', '?'), ('?', 'very bad', 'below average'), ('?', 'very bad', 'average'), ('average', '?', 'good'), ('not regular', '?', 'good'), ('?', 'average', 'bad'), ('regular', 'below average', 'bad'), ('below average', 'very bad', '?'), ('?', 'below average', 'good'), ('not regular', 'below average', 'excellent')}\n",
            "\n",
            " S[19]: {('0', '0', '0')}\n",
            "\n",
            " G[20]: {('?', 'below average', 'average'), ('?', 'good', 'average'), ('?', 'average', 'average'), ('below average', 'good', '?'), ('average', 'very bad', '?'), ('?', 'average', 'good'), ('?', 'good', 'below average'), ('below average', '?', 'bad'), ('?', 'good', 'good'), ('?', 'below average', 'below average'), ('regular', 'excellent', 'below average'), ('regular', 'very bad', '?'), ('below average', 'below average', '?'), ('not regular', '?', 'average'), ('not regular', 'average', '?'), ('?', 'very bad', 'good'), ('not regular', '?', 'good'), ('?', 'very bad', 'average'), ('?', 'average', 'bad'), ('regular', 'below average', 'bad'), ('below average', 'average', '?'), ('?', 'very bad', 'excellent'), ('below average', '?', 'excellent'), ('regular', '?', 'good'), ('?', 'average', 'excellent'), ('average', 'below average', '?'), ('?', 'absent', '?'), ('average', 'good', '?'), ('average', 'average', '?'), ('average', '?', 'average'), ('below average', '?', 'below average'), ('not regular', 'good', '?'), ('?', 'very bad', 'below average'), ('average', '?', 'good'), ('below average', 'very bad', '?'), ('?', 'below average', 'good'), ('not regular', 'below average', 'excellent')}\n",
            "\n",
            " S[20]: {('0', '0', '0')}\n",
            "\n",
            " G[21]: {('?', 'below average', 'average'), ('?', 'good', 'average'), ('?', 'average', 'average'), ('below average', 'good', '?'), ('average', 'very bad', '?'), ('?', 'average', 'good'), ('?', 'good', 'below average'), ('below average', '?', 'bad'), ('?', 'good', 'good'), ('?', 'below average', 'below average'), ('regular', 'excellent', 'below average'), ('regular', 'very bad', '?'), ('below average', 'below average', '?'), ('not regular', '?', 'average'), ('not regular', 'average', '?'), ('?', 'very bad', 'good'), ('not regular', '?', 'good'), ('?', 'very bad', 'average'), ('?', 'average', 'bad'), ('regular', 'below average', 'bad'), ('below average', 'average', '?'), ('?', 'very bad', 'excellent'), ('below average', '?', 'excellent'), ('regular', '?', 'good'), ('?', 'average', 'excellent'), ('average', 'below average', '?'), ('?', 'absent', '?'), ('average', 'good', '?'), ('average', 'average', '?'), ('average', '?', 'average'), ('below average', '?', 'below average'), ('not regular', 'good', '?'), ('?', 'very bad', 'below average'), ('average', '?', 'good'), ('below average', 'very bad', '?'), ('?', 'below average', 'good'), ('not regular', 'below average', 'excellent')}\n",
            "\n",
            " S[21]: {('0', '0', '0')}\n",
            "\n",
            " G[22]: {('?', 'below average', 'average'), ('?', 'good', 'average'), ('?', 'average', 'average'), ('below average', 'good', '?'), ('average', 'very bad', '?'), ('?', 'average', 'good'), ('?', 'good', 'below average'), ('below average', '?', 'bad'), ('?', 'good', 'good'), ('?', 'below average', 'below average'), ('regular', 'excellent', 'below average'), ('regular', 'very bad', '?'), ('below average', 'below average', '?'), ('not regular', '?', 'average'), ('not regular', 'average', '?'), ('?', 'very bad', 'good'), ('not regular', '?', 'good'), ('?', 'very bad', 'average'), ('?', 'average', 'bad'), ('regular', 'below average', 'bad'), ('below average', 'average', '?'), ('?', 'very bad', 'excellent'), ('below average', '?', 'excellent'), ('regular', '?', 'good'), ('?', 'average', 'excellent'), ('average', 'below average', '?'), ('?', 'absent', '?'), ('average', 'good', '?'), ('average', 'average', '?'), ('average', '?', 'average'), ('below average', '?', 'below average'), ('not regular', 'good', '?'), ('?', 'very bad', 'below average'), ('average', '?', 'good'), ('below average', 'very bad', '?'), ('?', 'below average', 'good'), ('not regular', 'below average', 'excellent')}\n",
            "\n",
            " S[22]: {('0', '0', '0')}\n",
            "\n",
            " G[23]: {('?', 'below average', 'average'), ('?', 'good', 'average'), ('?', 'average', 'average'), ('below average', 'good', '?'), ('average', 'very bad', '?'), ('?', 'average', 'good'), ('?', 'good', 'below average'), ('below average', '?', 'bad'), ('?', 'good', 'good'), ('?', 'below average', 'below average'), ('regular', 'excellent', 'below average'), ('regular', 'very bad', '?'), ('below average', 'below average', '?'), ('not regular', '?', 'average'), ('not regular', 'average', '?'), ('?', 'very bad', 'good'), ('not regular', '?', 'good'), ('?', 'very bad', 'average'), ('?', 'average', 'bad'), ('regular', 'below average', 'bad'), ('below average', 'average', '?'), ('?', 'very bad', 'excellent'), ('below average', '?', 'excellent'), ('regular', '?', 'good'), ('?', 'average', 'excellent'), ('average', 'below average', '?'), ('?', 'absent', '?'), ('average', 'good', '?'), ('average', 'average', '?'), ('average', '?', 'average'), ('below average', '?', 'below average'), ('not regular', 'good', '?'), ('?', 'very bad', 'below average'), ('average', '?', 'good'), ('below average', 'very bad', '?'), ('?', 'below average', 'good'), ('not regular', 'below average', 'excellent')}\n",
            "\n",
            " S[23]: {('0', '0', '0')}\n",
            "\n",
            " G[24]: {('?', 'below average', 'average'), ('?', 'good', 'average'), ('?', 'average', 'average'), ('below average', 'good', '?'), ('average', 'very bad', '?'), ('?', 'average', 'good'), ('?', 'good', 'below average'), ('below average', '?', 'bad'), ('?', 'good', 'good'), ('?', 'below average', 'below average'), ('regular', 'excellent', 'below average'), ('regular', 'very bad', '?'), ('below average', 'below average', '?'), ('not regular', '?', 'average'), ('not regular', 'average', '?'), ('?', 'very bad', 'good'), ('not regular', '?', 'good'), ('?', 'very bad', 'average'), ('?', 'average', 'bad'), ('regular', 'below average', 'bad'), ('below average', 'average', '?'), ('?', 'very bad', 'excellent'), ('below average', '?', 'excellent'), ('regular', '?', 'good'), ('average', 'below average', 'excellent'), ('?', 'average', 'excellent'), ('?', 'absent', '?'), ('average', 'good', '?'), ('average', 'average', '?'), ('average', '?', 'average'), ('below average', '?', 'below average'), ('not regular', 'good', '?'), ('?', 'very bad', 'below average'), ('average', '?', 'good'), ('below average', 'very bad', '?'), ('?', 'below average', 'good'), ('not regular', 'below average', 'excellent')}\n",
            "\n",
            " S[24]: {('0', '0', '0')}\n",
            "\n",
            " G[25]: {('?', 'below average', 'average'), ('?', 'good', 'average'), ('?', 'average', 'average'), ('below average', 'good', '?'), ('average', 'very bad', '?'), ('?', 'average', 'good'), ('?', 'good', 'below average'), ('below average', '?', 'bad'), ('?', 'good', 'good'), ('?', 'below average', 'below average'), ('regular', 'excellent', 'below average'), ('below average', 'below average', '?'), ('not regular', '?', 'average'), ('not regular', 'average', '?'), ('?', 'very bad', 'good'), ('not regular', '?', 'good'), ('?', 'average', 'bad'), ('regular', 'below average', 'bad'), ('regular', 'very bad', 'bad'), ('below average', 'average', '?'), ('?', 'very bad', 'excellent'), ('below average', '?', 'excellent'), ('regular', '?', 'good'), ('average', 'below average', 'excellent'), ('?', 'average', 'excellent'), ('?', 'absent', '?'), ('average', 'good', '?'), ('average', 'average', '?'), ('average', '?', 'average'), ('below average', '?', 'below average'), ('not regular', 'good', '?'), ('?', 'very bad', 'below average'), ('average', '?', 'good'), ('below average', 'very bad', '?'), ('?', 'below average', 'good'), ('not regular', 'below average', 'excellent')}\n",
            "\n",
            " S[25]: {('0', '0', '0')}\n",
            "\n",
            " G[26]: {('?', 'below average', 'average'), ('?', 'good', 'average'), ('?', 'average', 'average'), ('below average', 'good', '?'), ('average', 'very bad', '?'), ('?', 'average', 'good'), ('?', 'good', 'below average'), ('below average', '?', 'bad'), ('?', 'good', 'good'), ('?', 'below average', 'below average'), ('regular', 'excellent', 'below average'), ('below average', 'below average', '?'), ('not regular', '?', 'average'), ('not regular', 'average', '?'), ('?', 'very bad', 'good'), ('not regular', '?', 'good'), ('?', 'average', 'bad'), ('regular', 'below average', 'bad'), ('regular', 'very bad', 'bad'), ('below average', 'average', '?'), ('?', 'very bad', 'excellent'), ('below average', '?', 'excellent'), ('regular', '?', 'good'), ('average', 'below average', 'excellent'), ('?', 'average', 'excellent'), ('?', 'absent', '?'), ('average', 'good', '?'), ('average', 'average', '?'), ('below average', '?', 'below average'), ('not regular', 'good', '?'), ('?', 'very bad', 'below average'), ('average', '?', 'good'), ('below average', 'very bad', '?'), ('?', 'below average', 'good'), ('not regular', 'below average', 'excellent')}\n",
            "\n",
            " S[26]: {('0', '0', '0')}\n",
            "\n",
            " G[27]: {('?', 'below average', 'average'), ('?', 'good', 'average'), ('?', 'average', 'average'), ('below average', 'good', '?'), ('average', 'very bad', '?'), ('?', 'average', 'good'), ('?', 'good', 'below average'), ('below average', '?', 'bad'), ('?', 'good', 'good'), ('?', 'below average', 'below average'), ('below average', 'below average', '?'), ('not regular', '?', 'average'), ('not regular', 'average', '?'), ('?', 'very bad', 'good'), ('not regular', '?', 'good'), ('?', 'average', 'bad'), ('regular', 'below average', 'bad'), ('regular', 'very bad', 'bad'), ('below average', 'average', '?'), ('?', 'very bad', 'excellent'), ('below average', '?', 'excellent'), ('regular', '?', 'good'), ('average', 'below average', 'excellent'), ('?', 'average', 'excellent'), ('?', 'absent', '?'), ('average', 'good', '?'), ('average', 'average', '?'), ('below average', '?', 'below average'), ('not regular', 'good', '?'), ('?', 'very bad', 'below average'), ('average', '?', 'good'), ('below average', 'very bad', '?'), ('?', 'below average', 'good'), ('not regular', 'below average', 'excellent')}\n",
            "\n",
            " S[27]: {('0', '0', '0')}\n",
            "\n",
            " G[28]: {('?', 'below average', 'average'), ('?', 'good', 'average'), ('?', 'average', 'average'), ('below average', 'good', '?'), ('average', 'very bad', '?'), ('?', 'average', 'good'), ('?', 'good', 'below average'), ('below average', '?', 'bad'), ('?', 'good', 'good'), ('?', 'below average', 'below average'), ('not regular', 'very bad', 'average'), ('below average', 'below average', '?'), ('not regular', 'average', '?'), ('?', 'very bad', 'good'), ('not regular', '?', 'good'), ('?', 'average', 'bad'), ('regular', 'below average', 'bad'), ('regular', 'very bad', 'bad'), ('below average', 'average', '?'), ('?', 'very bad', 'excellent'), ('below average', '?', 'excellent'), ('regular', '?', 'good'), ('average', 'below average', 'excellent'), ('?', 'average', 'excellent'), ('?', 'absent', '?'), ('average', 'good', '?'), ('average', 'average', '?'), ('below average', '?', 'below average'), ('not regular', 'good', '?'), ('?', 'very bad', 'below average'), ('average', '?', 'good'), ('below average', 'very bad', '?'), ('?', 'below average', 'good'), ('not regular', 'below average', 'excellent')}\n",
            "\n",
            " S[28]: {('0', '0', '0')}\n",
            "\n",
            " G[29]: {('?', 'below average', 'average'), ('?', 'good', 'average'), ('?', 'average', 'average'), ('below average', 'good', '?'), ('average', 'very bad', '?'), ('?', 'average', 'good'), ('?', 'good', 'below average'), ('below average', '?', 'bad'), ('?', 'good', 'good'), ('?', 'below average', 'below average'), ('not regular', 'very bad', 'average'), ('below average', 'below average', '?'), ('not regular', 'average', '?'), ('?', 'very bad', 'good'), ('not regular', '?', 'good'), ('?', 'average', 'bad'), ('regular', 'below average', 'bad'), ('regular', 'very bad', 'bad'), ('below average', 'average', '?'), ('?', 'very bad', 'excellent'), ('below average', '?', 'excellent'), ('regular', '?', 'good'), ('average', 'below average', 'excellent'), ('?', 'average', 'excellent'), ('?', 'absent', '?'), ('average', 'good', '?'), ('average', 'average', '?'), ('below average', '?', 'below average'), ('not regular', 'good', '?'), ('?', 'very bad', 'below average'), ('average', '?', 'good'), ('below average', 'very bad', '?'), ('?', 'below average', 'good'), ('not regular', 'below average', 'excellent')}\n",
            "\n",
            " S[29]: {('0', '0', '0')}\n",
            "\n",
            " G[30]: {('?', 'below average', 'average'), ('?', 'average', 'average'), ('below average', 'good', '?'), ('average', 'very bad', '?'), ('?', 'average', 'good'), ('?', 'good', 'below average'), ('below average', '?', 'bad'), ('?', 'good', 'good'), ('?', 'below average', 'below average'), ('not regular', 'very bad', 'average'), ('below average', 'below average', '?'), ('not regular', 'average', '?'), ('average', 'good', 'excellent'), ('?', 'very bad', 'good'), ('not regular', '?', 'good'), ('?', 'average', 'bad'), ('regular', 'below average', 'bad'), ('regular', 'very bad', 'bad'), ('below average', 'average', '?'), ('regular', 'good', 'average'), ('?', 'very bad', 'excellent'), ('below average', '?', 'excellent'), ('regular', '?', 'good'), ('average', 'below average', 'excellent'), ('?', 'average', 'excellent'), ('average', 'good', 'bad'), ('?', 'absent', '?'), ('average', 'average', '?'), ('below average', '?', 'below average'), ('not regular', 'good', '?'), ('?', 'very bad', 'below average'), ('average', '?', 'good'), ('below average', 'very bad', '?'), ('?', 'below average', 'good'), ('not regular', 'below average', 'excellent')}\n",
            "\n",
            " S[30]: {('0', '0', '0')}\n",
            "\n",
            " G[31]: {('?', 'below average', 'average'), ('?', 'average', 'average'), ('below average', 'good', '?'), ('average', 'very bad', '?'), ('?', 'average', 'good'), ('?', 'good', 'below average'), ('below average', '?', 'bad'), ('?', 'good', 'good'), ('?', 'below average', 'below average'), ('not regular', 'very bad', 'average'), ('below average', 'below average', '?'), ('not regular', 'average', '?'), ('average', 'good', 'excellent'), ('?', 'very bad', 'good'), ('not regular', '?', 'good'), ('?', 'average', 'bad'), ('regular', 'below average', 'bad'), ('regular', 'very bad', 'bad'), ('below average', 'average', '?'), ('regular', 'good', 'average'), ('?', 'very bad', 'excellent'), ('below average', '?', 'excellent'), ('regular', '?', 'good'), ('average', 'below average', 'excellent'), ('?', 'average', 'excellent'), ('average', 'good', 'bad'), ('?', 'absent', '?'), ('average', 'average', '?'), ('below average', '?', 'below average'), ('not regular', 'good', '?'), ('?', 'very bad', 'below average'), ('average', '?', 'good'), ('below average', 'very bad', '?'), ('?', 'below average', 'good'), ('not regular', 'below average', 'excellent')}\n",
            "\n",
            " S[31]: {('0', '0', '0')}\n",
            "\n",
            " G[32]: {('?', 'below average', 'average'), ('?', 'average', 'average'), ('below average', 'good', '?'), ('average', 'very bad', '?'), ('?', 'average', 'good'), ('?', 'good', 'below average'), ('below average', '?', 'bad'), ('?', 'good', 'good'), ('?', 'below average', 'below average'), ('below average', 'below average', '?'), ('not regular', 'average', '?'), ('average', 'good', 'excellent'), ('?', 'very bad', 'good'), ('not regular', '?', 'good'), ('?', 'average', 'bad'), ('regular', 'below average', 'bad'), ('regular', 'very bad', 'bad'), ('below average', 'average', '?'), ('regular', 'good', 'average'), ('?', 'very bad', 'excellent'), ('below average', '?', 'excellent'), ('regular', '?', 'good'), ('average', 'below average', 'excellent'), ('?', 'average', 'excellent'), ('average', 'good', 'bad'), ('?', 'absent', '?'), ('average', 'average', '?'), ('below average', '?', 'below average'), ('not regular', 'good', '?'), ('?', 'very bad', 'below average'), ('average', '?', 'good'), ('below average', 'very bad', '?'), ('?', 'below average', 'good'), ('not regular', 'below average', 'excellent')}\n",
            "\n",
            " S[32]: {('0', '0', '0')}\n",
            "\n",
            " G[33]: {('?', 'below average', 'average'), ('?', 'average', 'average'), ('below average', 'good', '?'), ('average', 'very bad', '?'), ('?', 'average', 'good'), ('?', 'good', 'below average'), ('below average', '?', 'bad'), ('?', 'good', 'good'), ('?', 'below average', 'below average'), ('below average', 'below average', '?'), ('not regular', 'average', '?'), ('average', 'good', 'excellent'), ('?', 'very bad', 'good'), ('not regular', '?', 'good'), ('?', 'average', 'bad'), ('regular', 'below average', 'bad'), ('regular', 'very bad', 'bad'), ('below average', 'average', '?'), ('regular', 'good', 'average'), ('?', 'very bad', 'excellent'), ('below average', '?', 'excellent'), ('regular', '?', 'good'), ('average', 'below average', 'excellent'), ('?', 'average', 'excellent'), ('average', 'good', 'bad'), ('?', 'absent', '?'), ('average', 'average', '?'), ('below average', '?', 'below average'), ('not regular', 'good', '?'), ('?', 'very bad', 'below average'), ('average', '?', 'good'), ('below average', 'very bad', '?'), ('?', 'below average', 'good'), ('not regular', 'below average', 'excellent')}\n",
            "\n",
            " S[33]: {('0', '0', '0')}\n",
            "\n",
            " G[34]: {('?', 'below average', 'average'), ('?', 'average', 'average'), ('below average', 'good', '?'), ('average', 'very bad', '?'), ('?', 'average', 'good'), ('?', 'good', 'below average'), ('below average', '?', 'bad'), ('?', 'good', 'good'), ('?', 'below average', 'below average'), ('below average', 'below average', '?'), ('not regular', 'average', '?'), ('average', 'good', 'excellent'), ('?', 'very bad', 'good'), ('not regular', '?', 'good'), ('?', 'average', 'bad'), ('regular', 'below average', 'bad'), ('regular', 'very bad', 'bad'), ('below average', 'average', '?'), ('regular', 'good', 'average'), ('?', 'very bad', 'excellent'), ('below average', '?', 'excellent'), ('regular', '?', 'good'), ('average', 'below average', 'excellent'), ('?', 'average', 'excellent'), ('average', 'good', 'bad'), ('?', 'absent', '?'), ('average', 'average', '?'), ('below average', '?', 'below average'), ('not regular', 'good', '?'), ('?', 'very bad', 'below average'), ('average', '?', 'good'), ('below average', 'very bad', '?'), ('?', 'below average', 'good'), ('not regular', 'below average', 'excellent')}\n",
            "\n",
            " S[34]: {('0', '0', '0')}\n",
            "\n",
            " G[35]: {('?', 'below average', 'average'), ('?', 'average', 'average'), ('below average', 'good', '?'), ('average', 'very bad', '?'), ('?', 'average', 'good'), ('?', 'good', 'below average'), ('below average', '?', 'bad'), ('?', 'good', 'good'), ('?', 'below average', 'below average'), ('below average', 'below average', '?'), ('not regular', 'average', '?'), ('average', 'good', 'excellent'), ('?', 'very bad', 'good'), ('not regular', '?', 'good'), ('?', 'average', 'bad'), ('regular', 'below average', 'bad'), ('regular', 'very bad', 'bad'), ('below average', 'average', '?'), ('regular', 'good', 'average'), ('?', 'very bad', 'excellent'), ('below average', '?', 'excellent'), ('regular', '?', 'good'), ('average', 'below average', 'excellent'), ('?', 'average', 'excellent'), ('average', 'good', 'bad'), ('?', 'absent', '?'), ('average', 'average', '?'), ('below average', '?', 'below average'), ('not regular', 'good', '?'), ('?', 'very bad', 'below average'), ('average', '?', 'good'), ('below average', 'very bad', '?'), ('?', 'below average', 'good'), ('not regular', 'below average', 'excellent')}\n",
            "\n",
            " S[35]: {('0', '0', '0')}\n",
            "\n",
            " G[36]: {('?', 'below average', 'average'), ('?', 'average', 'average'), ('below average', 'good', '?'), ('average', 'very bad', '?'), ('?', 'average', 'good'), ('below average', 'absent', '?'), ('?', 'good', 'below average'), ('below average', '?', 'bad'), ('?', 'good', 'good'), ('?', 'absent', 'average'), ('?', 'absent', 'good'), ('?', 'below average', 'below average'), ('?', 'absent', 'below average'), ('below average', 'below average', '?'), ('not regular', 'average', '?'), ('average', 'good', 'excellent'), ('?', 'absent', 'excellent'), ('?', 'very bad', 'good'), ('not regular', '?', 'good'), ('?', 'average', 'bad'), ('regular', 'below average', 'bad'), ('regular', 'very bad', 'bad'), ('below average', 'average', '?'), ('regular', 'good', 'average'), ('?', 'very bad', 'excellent'), ('below average', '?', 'excellent'), ('regular', '?', 'good'), ('average', 'below average', 'excellent'), ('?', 'average', 'excellent'), ('regular', 'absent', '?'), ('average', 'good', 'bad'), ('average', 'average', '?'), ('below average', '?', 'below average'), ('not regular', 'good', '?'), ('?', 'very bad', 'below average'), ('average', 'absent', '?'), ('average', '?', 'good'), ('below average', 'very bad', '?'), ('?', 'below average', 'good'), ('not regular', 'below average', 'excellent')}\n",
            "\n",
            " S[36]: {('0', '0', '0')}\n",
            "\n",
            " G[37]: {('?', 'below average', 'average'), ('?', 'average', 'average'), ('below average', 'good', '?'), ('average', 'very bad', '?'), ('?', 'average', 'good'), ('below average', 'absent', '?'), ('?', 'good', 'below average'), ('below average', '?', 'bad'), ('?', 'good', 'good'), ('?', 'absent', 'average'), ('?', 'absent', 'good'), ('?', 'below average', 'below average'), ('?', 'absent', 'below average'), ('below average', 'below average', '?'), ('not regular', 'average', '?'), ('average', 'good', 'excellent'), ('?', 'absent', 'excellent'), ('?', 'very bad', 'good'), ('not regular', '?', 'good'), ('?', 'average', 'bad'), ('regular', 'below average', 'bad'), ('regular', 'very bad', 'bad'), ('below average', 'average', '?'), ('regular', 'good', 'average'), ('?', 'very bad', 'excellent'), ('below average', '?', 'excellent'), ('regular', '?', 'good'), ('average', 'below average', 'excellent'), ('?', 'average', 'excellent'), ('regular', 'absent', '?'), ('average', 'good', 'bad'), ('average', 'average', '?'), ('below average', '?', 'below average'), ('not regular', 'good', '?'), ('?', 'very bad', 'below average'), ('average', 'absent', '?'), ('average', '?', 'good'), ('below average', 'very bad', '?'), ('?', 'below average', 'good'), ('not regular', 'below average', 'excellent')}\n",
            "\n",
            " S[37]: {('0', '0', '0')}\n",
            "\n",
            " G[38]: {('?', 'below average', 'average'), ('?', 'average', 'average'), ('below average', 'good', '?'), ('average', 'very bad', '?'), ('?', 'average', 'good'), ('below average', 'absent', '?'), ('?', 'good', 'below average'), ('below average', '?', 'bad'), ('?', 'good', 'good'), ('?', 'absent', 'average'), ('?', 'absent', 'good'), ('?', 'below average', 'below average'), ('?', 'absent', 'below average'), ('below average', 'below average', '?'), ('not regular', 'average', '?'), ('average', 'good', 'excellent'), ('?', 'absent', 'excellent'), ('?', 'very bad', 'good'), ('not regular', '?', 'good'), ('?', 'average', 'bad'), ('regular', 'below average', 'bad'), ('regular', 'very bad', 'bad'), ('below average', 'average', '?'), ('regular', 'good', 'average'), ('?', 'very bad', 'excellent'), ('below average', '?', 'excellent'), ('regular', '?', 'good'), ('average', 'below average', 'excellent'), ('?', 'average', 'excellent'), ('regular', 'absent', '?'), ('average', 'good', 'bad'), ('average', 'average', '?'), ('below average', '?', 'below average'), ('not regular', 'good', '?'), ('?', 'very bad', 'below average'), ('average', 'absent', '?'), ('average', '?', 'good'), ('below average', 'very bad', '?'), ('?', 'below average', 'good'), ('not regular', 'below average', 'excellent')}\n",
            "\n",
            " S[38]: {('0', '0', '0')}\n",
            "\n",
            " G[39]: {('?', 'below average', 'average'), ('?', 'average', 'average'), ('below average', 'good', '?'), ('average', 'very bad', '?'), ('?', 'average', 'good'), ('below average', 'absent', '?'), ('?', 'good', 'below average'), ('below average', '?', 'bad'), ('?', 'good', 'good'), ('?', 'absent', 'average'), ('?', 'absent', 'good'), ('?', 'below average', 'below average'), ('?', 'absent', 'below average'), ('below average', 'below average', '?'), ('not regular', 'average', '?'), ('average', 'good', 'excellent'), ('?', 'absent', 'excellent'), ('?', 'very bad', 'good'), ('not regular', '?', 'good'), ('?', 'average', 'bad'), ('regular', 'below average', 'bad'), ('regular', 'very bad', 'bad'), ('below average', 'average', '?'), ('regular', 'good', 'average'), ('?', 'very bad', 'excellent'), ('below average', '?', 'excellent'), ('regular', '?', 'good'), ('average', 'below average', 'excellent'), ('?', 'average', 'excellent'), ('regular', 'absent', '?'), ('average', 'good', 'bad'), ('average', 'average', '?'), ('below average', '?', 'below average'), ('not regular', 'good', '?'), ('?', 'very bad', 'below average'), ('average', 'absent', '?'), ('average', '?', 'good'), ('below average', 'very bad', '?'), ('?', 'below average', 'good'), ('not regular', 'below average', 'excellent')}\n",
            "\n",
            " S[39]: {('0', '0', '0')}\n",
            "\n",
            " G[40]: {('?', 'below average', 'average'), ('?', 'average', 'average'), ('below average', 'good', '?'), ('average', 'very bad', '?'), ('?', 'average', 'good'), ('below average', 'absent', '?'), ('?', 'good', 'below average'), ('below average', '?', 'bad'), ('?', 'good', 'good'), ('?', 'absent', 'average'), ('?', 'absent', 'good'), ('?', 'below average', 'below average'), ('?', 'absent', 'below average'), ('below average', 'below average', '?'), ('not regular', 'average', '?'), ('average', 'good', 'excellent'), ('?', 'absent', 'excellent'), ('?', 'very bad', 'good'), ('not regular', '?', 'good'), ('?', 'average', 'bad'), ('regular', 'below average', 'bad'), ('below average', 'average', '?'), ('regular', 'good', 'average'), ('?', 'very bad', 'excellent'), ('below average', '?', 'excellent'), ('regular', '?', 'good'), ('average', 'below average', 'excellent'), ('?', 'average', 'excellent'), ('regular', 'absent', '?'), ('average', 'good', 'bad'), ('average', 'average', '?'), ('below average', '?', 'below average'), ('not regular', 'good', '?'), ('?', 'very bad', 'below average'), ('average', 'absent', '?'), ('average', '?', 'good'), ('below average', 'very bad', '?'), ('?', 'below average', 'good'), ('not regular', 'below average', 'excellent')}\n",
            "\n",
            " S[40]: {('0', '0', '0')}\n",
            "\n",
            " G[41]: {('?', 'below average', 'average'), ('?', 'average', 'average'), ('below average', 'good', '?'), ('average', 'very bad', '?'), ('?', 'average', 'good'), ('below average', 'absent', '?'), ('?', 'good', 'below average'), ('below average', '?', 'bad'), ('?', 'good', 'good'), ('?', 'absent', 'average'), ('?', 'absent', 'good'), ('?', 'below average', 'below average'), ('?', 'absent', 'below average'), ('below average', 'below average', '?'), ('not regular', 'average', '?'), ('average', 'good', 'excellent'), ('?', 'absent', 'excellent'), ('?', 'very bad', 'good'), ('not regular', '?', 'good'), ('?', 'average', 'bad'), ('regular', 'below average', 'bad'), ('below average', 'average', '?'), ('regular', 'good', 'average'), ('?', 'very bad', 'excellent'), ('below average', '?', 'excellent'), ('regular', '?', 'good'), ('average', 'below average', 'excellent'), ('?', 'average', 'excellent'), ('regular', 'absent', '?'), ('average', 'good', 'bad'), ('average', 'average', '?'), ('below average', '?', 'below average'), ('not regular', 'good', '?'), ('?', 'very bad', 'below average'), ('average', 'absent', '?'), ('average', '?', 'good'), ('below average', 'very bad', '?'), ('?', 'below average', 'good'), ('not regular', 'below average', 'excellent')}\n",
            "\n",
            " S[41]: {('0', '0', '0')}\n",
            "\n",
            " G[42]: {('?', 'below average', 'average'), ('?', 'average', 'average'), ('below average', 'good', '?'), ('average', 'very bad', '?'), ('?', 'average', 'good'), ('below average', 'absent', '?'), ('?', 'good', 'below average'), ('below average', '?', 'bad'), ('?', 'good', 'good'), ('?', 'absent', 'average'), ('?', 'absent', 'good'), ('?', 'below average', 'below average'), ('?', 'absent', 'below average'), ('below average', 'below average', '?'), ('not regular', 'average', '?'), ('average', 'good', 'excellent'), ('?', 'absent', 'excellent'), ('?', 'very bad', 'good'), ('not regular', '?', 'good'), ('?', 'average', 'bad'), ('regular', 'below average', 'bad'), ('below average', 'average', '?'), ('regular', 'good', 'average'), ('?', 'very bad', 'excellent'), ('below average', '?', 'excellent'), ('regular', '?', 'good'), ('average', 'below average', 'excellent'), ('?', 'average', 'excellent'), ('regular', 'absent', '?'), ('average', 'good', 'bad'), ('average', 'average', '?'), ('below average', '?', 'below average'), ('not regular', 'good', '?'), ('?', 'very bad', 'below average'), ('average', 'absent', '?'), ('average', '?', 'good'), ('below average', 'very bad', '?'), ('?', 'below average', 'good'), ('not regular', 'below average', 'excellent')}\n",
            "\n",
            " S[42]: {('0', '0', '0')}\n",
            "\n",
            " G[43]: {('?', 'below average', 'average'), ('?', 'average', 'average'), ('below average', 'good', '?'), ('average', 'very bad', '?'), ('?', 'average', 'good'), ('below average', 'absent', '?'), ('?', 'good', 'below average'), ('below average', '?', 'bad'), ('?', 'good', 'good'), ('?', 'absent', 'average'), ('?', 'absent', 'good'), ('?', 'below average', 'below average'), ('?', 'absent', 'below average'), ('below average', 'below average', '?'), ('not regular', 'average', '?'), ('average', 'good', 'excellent'), ('?', 'absent', 'excellent'), ('?', 'very bad', 'good'), ('not regular', '?', 'good'), ('?', 'average', 'bad'), ('regular', 'below average', 'bad'), ('below average', 'average', '?'), ('regular', 'good', 'average'), ('?', 'very bad', 'excellent'), ('below average', '?', 'excellent'), ('regular', '?', 'good'), ('average', 'below average', 'excellent'), ('?', 'average', 'excellent'), ('regular', 'absent', '?'), ('average', 'good', 'bad'), ('average', 'average', '?'), ('below average', '?', 'below average'), ('not regular', 'good', '?'), ('?', 'very bad', 'below average'), ('average', 'absent', '?'), ('average', '?', 'good'), ('below average', 'very bad', '?'), ('?', 'below average', 'good'), ('not regular', 'below average', 'excellent')}\n",
            "\n",
            " S[43]: {('0', '0', '0')}\n",
            "\n",
            " G[44]: {('?', 'below average', 'average'), ('?', 'average', 'average'), ('below average', 'good', '?'), ('average', 'very bad', '?'), ('?', 'average', 'good'), ('below average', 'absent', '?'), ('?', 'good', 'below average'), ('below average', '?', 'bad'), ('?', 'good', 'good'), ('?', 'absent', 'average'), ('?', 'absent', 'good'), ('?', 'below average', 'below average'), ('?', 'absent', 'below average'), ('below average', 'below average', '?'), ('not regular', 'average', '?'), ('average', 'good', 'excellent'), ('?', 'absent', 'excellent'), ('?', 'very bad', 'good'), ('not regular', '?', 'good'), ('?', 'average', 'bad'), ('regular', 'below average', 'bad'), ('below average', 'average', '?'), ('regular', 'good', 'average'), ('?', 'very bad', 'excellent'), ('below average', '?', 'excellent'), ('regular', '?', 'good'), ('average', 'below average', 'excellent'), ('?', 'average', 'excellent'), ('regular', 'absent', '?'), ('average', 'good', 'bad'), ('average', 'average', '?'), ('below average', '?', 'below average'), ('not regular', 'good', '?'), ('?', 'very bad', 'below average'), ('average', 'absent', '?'), ('average', '?', 'good'), ('below average', 'very bad', '?'), ('?', 'below average', 'good'), ('not regular', 'below average', 'excellent')}\n",
            "\n",
            " S[44]: {('0', '0', '0')}\n",
            "\n",
            " G[45]: {('?', 'below average', 'average'), ('?', 'average', 'average'), ('below average', 'good', '?'), ('average', 'very bad', '?'), ('?', 'average', 'good'), ('below average', 'absent', '?'), ('?', 'good', 'below average'), ('below average', '?', 'bad'), ('?', 'good', 'good'), ('?', 'absent', 'average'), ('?', 'absent', 'good'), ('?', 'below average', 'below average'), ('?', 'absent', 'below average'), ('below average', 'below average', '?'), ('not regular', 'average', '?'), ('not regular', 'good', 'excellent'), ('average', 'good', 'excellent'), ('?', 'absent', 'excellent'), ('?', 'very bad', 'good'), ('not regular', '?', 'good'), ('?', 'average', 'bad'), ('regular', 'below average', 'bad'), ('below average', 'average', '?'), ('regular', 'good', 'average'), ('not regular', 'good', 'average'), ('?', 'very bad', 'excellent'), ('below average', '?', 'excellent'), ('regular', '?', 'good'), ('average', 'below average', 'excellent'), ('?', 'average', 'excellent'), ('regular', 'absent', '?'), ('average', 'good', 'bad'), ('average', 'average', '?'), ('below average', '?', 'below average'), ('?', 'very bad', 'below average'), ('average', 'absent', '?'), ('average', '?', 'good'), ('below average', 'very bad', '?'), ('?', 'below average', 'good'), ('not regular', 'below average', 'excellent')}\n",
            "\n",
            " S[45]: {('0', '0', '0')}\n",
            "\n",
            " G[46]: {('?', 'below average', 'average'), ('?', 'average', 'average'), ('below average', 'good', '?'), ('average', 'very bad', '?'), ('?', 'average', 'good'), ('below average', 'absent', '?'), ('?', 'good', 'below average'), ('below average', '?', 'bad'), ('?', 'good', 'good'), ('?', 'absent', 'average'), ('?', 'absent', 'good'), ('?', 'below average', 'below average'), ('?', 'absent', 'below average'), ('below average', 'below average', '?'), ('not regular', 'average', '?'), ('not regular', 'good', 'excellent'), ('average', 'good', 'excellent'), ('?', 'absent', 'excellent'), ('?', 'very bad', 'good'), ('not regular', '?', 'good'), ('?', 'average', 'bad'), ('regular', 'below average', 'bad'), ('below average', 'average', '?'), ('regular', 'good', 'average'), ('not regular', 'good', 'average'), ('?', 'very bad', 'excellent'), ('below average', '?', 'excellent'), ('regular', '?', 'good'), ('average', 'below average', 'excellent'), ('?', 'average', 'excellent'), ('regular', 'absent', '?'), ('average', 'good', 'bad'), ('average', 'average', '?'), ('below average', '?', 'below average'), ('?', 'very bad', 'below average'), ('average', 'absent', '?'), ('average', '?', 'good'), ('below average', 'very bad', '?'), ('?', 'below average', 'good'), ('not regular', 'below average', 'excellent')}\n",
            "\n",
            " S[46]: {('0', '0', '0')}\n",
            "\n",
            " G[47]: {('?', 'below average', 'average'), ('?', 'average', 'average'), ('below average', 'good', '?'), ('average', 'very bad', '?'), ('?', 'average', 'good'), ('below average', 'absent', '?'), ('?', 'good', 'below average'), ('below average', '?', 'bad'), ('?', 'good', 'good'), ('?', 'absent', 'average'), ('?', 'absent', 'good'), ('?', 'below average', 'below average'), ('?', 'absent', 'below average'), ('below average', 'below average', '?'), ('not regular', 'average', '?'), ('not regular', 'good', 'excellent'), ('average', 'good', 'excellent'), ('?', 'absent', 'excellent'), ('?', 'very bad', 'good'), ('not regular', '?', 'good'), ('?', 'average', 'bad'), ('regular', 'below average', 'bad'), ('below average', 'average', '?'), ('regular', 'good', 'average'), ('not regular', 'good', 'average'), ('?', 'very bad', 'excellent'), ('below average', '?', 'excellent'), ('regular', '?', 'good'), ('average', 'below average', 'excellent'), ('?', 'average', 'excellent'), ('regular', 'absent', '?'), ('average', 'good', 'bad'), ('average', 'average', '?'), ('below average', '?', 'below average'), ('?', 'very bad', 'below average'), ('average', 'absent', '?'), ('average', '?', 'good'), ('below average', 'very bad', '?'), ('?', 'below average', 'good'), ('not regular', 'below average', 'excellent')}\n",
            "\n",
            " S[47]: {('0', '0', '0')}\n",
            "\n",
            " G[48]: {('?', 'below average', 'average'), ('?', 'average', 'average'), ('below average', 'good', '?'), ('average', 'very bad', '?'), ('?', 'average', 'good'), ('below average', 'absent', '?'), ('?', 'good', 'below average'), ('?', 'good', 'good'), ('?', 'absent', 'average'), ('?', 'absent', 'good'), ('?', 'below average', 'below average'), ('?', 'absent', 'below average'), ('not regular', 'average', '?'), ('not regular', 'good', 'excellent'), ('average', 'good', 'excellent'), ('?', 'absent', 'excellent'), ('?', 'very bad', 'good'), ('not regular', '?', 'good'), ('?', 'average', 'bad'), ('regular', 'below average', 'bad'), ('below average', 'average', '?'), ('regular', 'good', 'average'), ('not regular', 'good', 'average'), ('?', 'very bad', 'excellent'), ('below average', '?', 'excellent'), ('regular', '?', 'good'), ('average', 'below average', 'excellent'), ('below average', 'excellent', 'bad'), ('?', 'average', 'excellent'), ('regular', 'absent', '?'), ('average', 'good', 'bad'), ('average', 'average', '?'), ('below average', '?', 'below average'), ('?', 'very bad', 'below average'), ('average', 'absent', '?'), ('average', '?', 'good'), ('below average', 'very bad', '?'), ('?', 'below average', 'good'), ('not regular', 'below average', 'excellent')}\n",
            "\n",
            " S[48]: {('0', '0', '0')}\n",
            "\n",
            " G[49]: {('?', 'below average', 'average'), ('?', 'average', 'average'), ('below average', 'good', '?'), ('average', 'very bad', '?'), ('?', 'average', 'good'), ('below average', 'absent', '?'), ('?', 'good', 'below average'), ('?', 'good', 'good'), ('?', 'absent', 'average'), ('?', 'absent', 'good'), ('?', 'below average', 'below average'), ('?', 'absent', 'below average'), ('not regular', 'average', '?'), ('not regular', 'good', 'excellent'), ('average', 'good', 'excellent'), ('?', 'absent', 'excellent'), ('?', 'very bad', 'good'), ('not regular', '?', 'good'), ('?', 'average', 'bad'), ('regular', 'below average', 'bad'), ('below average', 'average', '?'), ('regular', 'good', 'average'), ('not regular', 'good', 'average'), ('?', 'very bad', 'excellent'), ('below average', '?', 'excellent'), ('regular', '?', 'good'), ('average', 'below average', 'excellent'), ('?', 'average', 'excellent'), ('regular', 'absent', '?'), ('average', 'good', 'bad'), ('average', 'average', '?'), ('below average', '?', 'below average'), ('?', 'very bad', 'below average'), ('average', 'absent', '?'), ('average', '?', 'good'), ('below average', 'very bad', '?'), ('?', 'below average', 'good'), ('not regular', 'below average', 'excellent')}\n",
            "\n",
            " S[49]: {('0', '0', '0')}\n",
            "\n",
            " G[50]: {('?', 'below average', 'average'), ('?', 'average', 'average'), ('average', 'very bad', '?'), ('?', 'average', 'good'), ('below average', 'absent', '?'), ('?', 'good', 'below average'), ('?', 'good', 'good'), ('?', 'absent', 'average'), ('?', 'absent', 'good'), ('?', 'below average', 'below average'), ('?', 'absent', 'below average'), ('below average', 'good', 'average'), ('not regular', 'average', '?'), ('not regular', 'good', 'excellent'), ('average', 'good', 'excellent'), ('?', 'absent', 'excellent'), ('?', 'very bad', 'good'), ('not regular', '?', 'good'), ('?', 'average', 'bad'), ('regular', 'below average', 'bad'), ('below average', 'average', '?'), ('regular', 'good', 'average'), ('not regular', 'good', 'average'), ('?', 'very bad', 'excellent'), ('below average', '?', 'excellent'), ('regular', '?', 'good'), ('average', 'below average', 'excellent'), ('?', 'average', 'excellent'), ('regular', 'absent', '?'), ('average', 'good', 'bad'), ('average', 'average', '?'), ('below average', '?', 'below average'), ('?', 'very bad', 'below average'), ('average', 'absent', '?'), ('average', '?', 'good'), ('below average', 'very bad', '?'), ('?', 'below average', 'good'), ('not regular', 'below average', 'excellent')}\n",
            "\n",
            " S[50]: {('0', '0', '0')}\n",
            "\n",
            " G[51]: {('?', 'below average', 'average'), ('?', 'average', 'average'), ('average', 'very bad', '?'), ('?', 'average', 'good'), ('below average', 'absent', '?'), ('?', 'good', 'below average'), ('?', 'good', 'good'), ('?', 'absent', 'average'), ('?', 'absent', 'good'), ('?', 'below average', 'below average'), ('?', 'absent', 'below average'), ('below average', 'good', 'average'), ('not regular', 'average', '?'), ('not regular', 'good', 'excellent'), ('average', 'good', 'excellent'), ('?', 'absent', 'excellent'), ('?', 'very bad', 'good'), ('not regular', '?', 'good'), ('?', 'average', 'bad'), ('regular', 'below average', 'bad'), ('below average', 'average', '?'), ('regular', 'good', 'average'), ('not regular', 'good', 'average'), ('?', 'very bad', 'excellent'), ('below average', '?', 'excellent'), ('regular', '?', 'good'), ('average', 'below average', 'excellent'), ('?', 'average', 'excellent'), ('regular', 'absent', '?'), ('average', 'good', 'bad'), ('average', 'average', '?'), ('below average', '?', 'below average'), ('?', 'very bad', 'below average'), ('average', 'absent', '?'), ('average', '?', 'good'), ('below average', 'very bad', '?'), ('?', 'below average', 'good'), ('not regular', 'below average', 'excellent')}\n",
            "\n",
            " S[51]: {('0', '0', '0')}\n",
            "\n",
            " G[52]: {('?', 'below average', 'average'), ('?', 'average', 'average'), ('average', 'very bad', '?'), ('?', 'average', 'good'), ('below average', 'absent', '?'), ('?', 'good', 'below average'), ('?', 'good', 'good'), ('?', 'absent', 'average'), ('?', 'absent', 'good'), ('?', 'below average', 'below average'), ('?', 'absent', 'below average'), ('below average', 'very bad', 'average'), ('below average', 'good', 'average'), ('not regular', 'average', '?'), ('below average', 'very bad', 'bad'), ('not regular', 'good', 'excellent'), ('average', 'good', 'excellent'), ('?', 'absent', 'excellent'), ('not regular', '?', 'good'), ('?', 'average', 'bad'), ('regular', 'below average', 'bad'), ('below average', 'average', '?'), ('regular', 'good', 'average'), ('not regular', 'good', 'average'), ('?', 'very bad', 'excellent'), ('below average', '?', 'excellent'), ('regular', '?', 'good'), ('average', 'below average', 'excellent'), ('?', 'average', 'excellent'), ('regular', 'absent', '?'), ('average', 'good', 'bad'), ('average', 'average', '?'), ('below average', '?', 'below average'), ('?', 'very bad', 'below average'), ('average', 'absent', '?'), ('average', '?', 'good'), ('?', 'below average', 'good'), ('not regular', 'below average', 'excellent')}\n",
            "\n",
            " S[52]: {('0', '0', '0')}\n",
            "\n",
            " G[53]: {('?', 'below average', 'average'), ('?', 'average', 'average'), ('average', 'very bad', '?'), ('?', 'average', 'good'), ('below average', 'absent', '?'), ('?', 'good', 'below average'), ('?', 'good', 'good'), ('?', 'absent', 'average'), ('?', 'absent', 'good'), ('?', 'below average', 'below average'), ('?', 'absent', 'below average'), ('below average', 'very bad', 'average'), ('below average', 'good', 'average'), ('not regular', 'average', '?'), ('below average', 'very bad', 'bad'), ('not regular', 'good', 'excellent'), ('average', 'good', 'excellent'), ('?', 'absent', 'excellent'), ('not regular', '?', 'good'), ('?', 'average', 'bad'), ('regular', 'below average', 'bad'), ('below average', 'average', '?'), ('regular', 'good', 'average'), ('not regular', 'good', 'average'), ('?', 'very bad', 'excellent'), ('below average', '?', 'excellent'), ('regular', '?', 'good'), ('average', 'below average', 'excellent'), ('?', 'average', 'excellent'), ('regular', 'absent', '?'), ('average', 'good', 'bad'), ('average', 'average', '?'), ('below average', '?', 'below average'), ('?', 'very bad', 'below average'), ('average', 'absent', '?'), ('average', '?', 'good'), ('?', 'below average', 'good'), ('not regular', 'below average', 'excellent')}\n",
            "\n",
            " S[53]: {('0', '0', '0')}\n",
            "\n",
            " G[54]: {('?', 'below average', 'average'), ('?', 'average', 'average'), ('average', 'very bad', '?'), ('?', 'average', 'good'), ('below average', 'absent', '?'), ('?', 'good', 'below average'), ('?', 'good', 'good'), ('?', 'absent', 'average'), ('?', 'absent', 'good'), ('below average', 'below average', 'excellent'), ('?', 'below average', 'below average'), ('?', 'absent', 'below average'), ('below average', 'very bad', 'average'), ('below average', 'good', 'average'), ('not regular', 'average', '?'), ('below average', 'very bad', 'bad'), ('not regular', 'good', 'excellent'), ('average', 'good', 'excellent'), ('?', 'absent', 'excellent'), ('not regular', '?', 'good'), ('?', 'average', 'bad'), ('regular', 'below average', 'bad'), ('below average', 'average', '?'), ('below average', 'good', 'excellent'), ('regular', 'good', 'average'), ('not regular', 'good', 'average'), ('?', 'very bad', 'excellent'), ('regular', '?', 'good'), ('average', 'below average', 'excellent'), ('?', 'average', 'excellent'), ('regular', 'absent', '?'), ('average', 'good', 'bad'), ('average', 'average', '?'), ('below average', '?', 'below average'), ('?', 'very bad', 'below average'), ('average', 'absent', '?'), ('average', '?', 'good'), ('?', 'below average', 'good'), ('not regular', 'below average', 'excellent')}\n",
            "\n",
            " S[54]: {('0', '0', '0')}\n",
            "\n",
            " G[55]: {('?', 'below average', 'average'), ('?', 'average', 'average'), ('average', 'very bad', '?'), ('?', 'average', 'good'), ('below average', 'absent', '?'), ('?', 'good', 'below average'), ('?', 'good', 'good'), ('?', 'absent', 'average'), ('?', 'absent', 'good'), ('below average', 'below average', 'excellent'), ('?', 'below average', 'below average'), ('?', 'absent', 'below average'), ('below average', 'very bad', 'average'), ('below average', 'good', 'average'), ('not regular', 'average', '?'), ('below average', 'very bad', 'bad'), ('not regular', 'good', 'excellent'), ('average', 'good', 'excellent'), ('?', 'absent', 'excellent'), ('not regular', '?', 'good'), ('?', 'average', 'bad'), ('regular', 'below average', 'bad'), ('below average', 'average', '?'), ('below average', 'good', 'excellent'), ('regular', 'good', 'average'), ('not regular', 'good', 'average'), ('?', 'very bad', 'excellent'), ('average', 'below average', 'excellent'), ('?', 'average', 'excellent'), ('regular', 'absent', '?'), ('average', 'good', 'bad'), ('average', 'average', '?'), ('below average', '?', 'below average'), ('?', 'very bad', 'below average'), ('average', 'absent', '?'), ('average', '?', 'good'), ('?', 'below average', 'good'), ('regular', 'very bad', 'good'), ('not regular', 'below average', 'excellent')}\n",
            "\n",
            " S[55]: {('0', '0', '0')}\n",
            "\n",
            " G[56]: {('?', 'below average', 'average'), ('?', 'average', 'average'), ('average', 'very bad', '?'), ('?', 'average', 'good'), ('regular', 'below average', 'good'), ('below average', 'absent', '?'), ('?', 'good', 'below average'), ('?', 'good', 'good'), ('?', 'absent', 'average'), ('?', 'absent', 'good'), ('below average', 'below average', 'excellent'), ('not regular', 'very bad', 'good'), ('?', 'below average', 'below average'), ('?', 'absent', 'below average'), ('below average', 'very bad', 'average'), ('below average', 'good', 'average'), ('not regular', 'average', '?'), ('below average', 'very bad', 'bad'), ('not regular', 'good', 'excellent'), ('average', 'good', 'excellent'), ('?', 'absent', 'excellent'), ('?', 'average', 'bad'), ('regular', 'below average', 'bad'), ('below average', 'average', '?'), ('below average', 'below average', 'good'), ('below average', 'good', 'excellent'), ('regular', 'good', 'average'), ('not regular', 'good', 'average'), ('?', 'very bad', 'excellent'), ('average', 'below average', 'excellent'), ('?', 'average', 'excellent'), ('regular', 'absent', '?'), ('average', 'good', 'bad'), ('average', 'average', '?'), ('below average', '?', 'below average'), ('?', 'very bad', 'below average'), ('average', 'absent', '?'), ('average', '?', 'good'), ('regular', 'very bad', 'good'), ('not regular', 'excellent', 'good'), ('not regular', 'below average', 'excellent')}\n",
            "\n",
            " S[56]: {('0', '0', '0')}\n",
            "\n",
            " G[57]: {('?', 'below average', 'average'), ('?', 'average', 'average'), ('average', 'very bad', '?'), ('?', 'average', 'good'), ('regular', 'below average', 'good'), ('below average', 'absent', '?'), ('?', 'good', 'below average'), ('?', 'good', 'good'), ('?', 'absent', 'average'), ('?', 'absent', 'good'), ('below average', 'below average', 'excellent'), ('not regular', 'very bad', 'good'), ('?', 'below average', 'below average'), ('?', 'absent', 'below average'), ('below average', 'very bad', 'average'), ('below average', 'good', 'average'), ('not regular', 'average', '?'), ('below average', 'very bad', 'bad'), ('not regular', 'good', 'excellent'), ('average', 'good', 'excellent'), ('?', 'absent', 'excellent'), ('?', 'average', 'bad'), ('regular', 'below average', 'bad'), ('below average', 'average', '?'), ('below average', 'below average', 'good'), ('below average', 'good', 'excellent'), ('regular', 'good', 'average'), ('not regular', 'good', 'average'), ('?', 'very bad', 'excellent'), ('average', 'below average', 'excellent'), ('?', 'average', 'excellent'), ('average', 'good', 'bad'), ('average', 'average', '?'), ('below average', '?', 'below average'), ('?', 'very bad', 'below average'), ('average', 'absent', '?'), ('average', '?', 'good'), ('regular', 'very bad', 'good'), ('not regular', 'excellent', 'good'), ('not regular', 'below average', 'excellent')}\n",
            "\n",
            " S[57]: {('0', '0', '0')}\n",
            "\n",
            " G[58]: {('?', 'below average', 'average'), ('?', 'average', 'average'), ('average', 'very bad', '?'), ('?', 'average', 'good'), ('regular', 'below average', 'good'), ('below average', 'absent', '?'), ('?', 'good', 'below average'), ('?', 'good', 'good'), ('?', 'absent', 'average'), ('?', 'absent', 'good'), ('below average', 'below average', 'excellent'), ('not regular', 'very bad', 'good'), ('?', 'below average', 'below average'), ('?', 'absent', 'below average'), ('below average', 'very bad', 'average'), ('below average', 'good', 'average'), ('not regular', 'average', '?'), ('below average', 'very bad', 'bad'), ('not regular', 'good', 'excellent'), ('average', 'good', 'excellent'), ('?', 'absent', 'excellent'), ('?', 'average', 'bad'), ('regular', 'below average', 'bad'), ('below average', 'average', '?'), ('below average', 'below average', 'good'), ('below average', 'good', 'excellent'), ('regular', 'good', 'average'), ('not regular', 'good', 'average'), ('?', 'very bad', 'excellent'), ('average', 'below average', 'excellent'), ('?', 'average', 'excellent'), ('average', 'good', 'bad'), ('average', 'average', '?'), ('below average', '?', 'below average'), ('?', 'very bad', 'below average'), ('average', 'absent', '?'), ('average', '?', 'good'), ('regular', 'very bad', 'good'), ('not regular', 'excellent', 'good'), ('not regular', 'below average', 'excellent')}\n",
            "\n",
            " S[58]: {('0', '0', '0')}\n",
            "\n",
            " G[59]: {('?', 'below average', 'average'), ('?', 'average', 'average'), ('average', 'very bad', '?'), ('?', 'average', 'good'), ('regular', 'below average', 'good'), ('below average', 'absent', '?'), ('?', 'good', 'below average'), ('?', 'good', 'good'), ('?', 'absent', 'average'), ('?', 'absent', 'good'), ('below average', 'below average', 'excellent'), ('not regular', 'very bad', 'good'), ('?', 'below average', 'below average'), ('?', 'absent', 'below average'), ('below average', 'very bad', 'average'), ('below average', 'good', 'average'), ('not regular', 'average', '?'), ('below average', 'very bad', 'bad'), ('not regular', 'good', 'excellent'), ('average', 'good', 'excellent'), ('?', 'absent', 'excellent'), ('?', 'average', 'bad'), ('regular', 'below average', 'bad'), ('below average', 'average', '?'), ('below average', 'below average', 'good'), ('below average', 'good', 'excellent'), ('regular', 'good', 'average'), ('not regular', 'good', 'average'), ('?', 'very bad', 'excellent'), ('average', 'below average', 'excellent'), ('?', 'average', 'excellent'), ('average', 'good', 'bad'), ('average', 'average', '?'), ('below average', '?', 'below average'), ('?', 'very bad', 'below average'), ('average', 'absent', '?'), ('average', '?', 'good'), ('regular', 'very bad', 'good'), ('not regular', 'excellent', 'good'), ('not regular', 'below average', 'excellent')}\n",
            "\n",
            " S[59]: {('0', '0', '0')}\n",
            "\n",
            " G[60]: {('?', 'below average', 'average'), ('?', 'average', 'average'), ('average', 'very bad', '?'), ('?', 'average', 'good'), ('regular', 'below average', 'good'), ('below average', 'absent', '?'), ('?', 'good', 'below average'), ('?', 'good', 'good'), ('?', 'absent', 'average'), ('?', 'absent', 'good'), ('below average', 'below average', 'excellent'), ('not regular', 'very bad', 'good'), ('?', 'below average', 'below average'), ('?', 'absent', 'below average'), ('below average', 'very bad', 'average'), ('below average', 'good', 'average'), ('not regular', 'average', '?'), ('below average', 'very bad', 'bad'), ('not regular', 'good', 'excellent'), ('average', 'good', 'excellent'), ('?', 'absent', 'excellent'), ('?', 'average', 'bad'), ('regular', 'below average', 'bad'), ('below average', 'average', '?'), ('below average', 'below average', 'good'), ('below average', 'good', 'excellent'), ('regular', 'good', 'average'), ('not regular', 'good', 'average'), ('?', 'very bad', 'excellent'), ('average', 'below average', 'excellent'), ('?', 'average', 'excellent'), ('average', 'good', 'bad'), ('average', 'average', '?'), ('below average', '?', 'below average'), ('?', 'very bad', 'below average'), ('average', 'absent', '?'), ('average', '?', 'good'), ('regular', 'very bad', 'good'), ('not regular', 'excellent', 'good'), ('not regular', 'below average', 'excellent')}\n",
            "\n",
            " S[60]: {('0', '0', '0')}\n"
          ]
        }
      ]
    }
  ]
}